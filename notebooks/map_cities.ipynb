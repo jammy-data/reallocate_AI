{
 "cells": [
  {
   "cell_type": "markdown",
   "id": "2b745644",
   "metadata": {},
   "source": [
    "# Config"
   ]
  },
  {
   "cell_type": "code",
   "execution_count": 41,
   "id": "7e21f851",
   "metadata": {},
   "outputs": [],
   "source": [
    "import pandas as pd\n",
    "import geopandas as gpd\n",
    "import json\n",
    "import os\n",
    "from shapely.geometry import Point, LineString"
   ]
  },
  {
   "cell_type": "code",
   "execution_count": 42,
   "id": "234ab50c",
   "metadata": {},
   "outputs": [],
   "source": [
    "# Example usage\n",
    "path = \"../data/cities.csv\"  # Replace with the actual path\n",
    "output = \"../data/cities/\""
   ]
  },
  {
   "cell_type": "markdown",
   "id": "b7cfffa3",
   "metadata": {},
   "source": [
    "# Read data"
   ]
  },
  {
   "cell_type": "code",
   "execution_count": 43,
   "id": "e188217a",
   "metadata": {},
   "outputs": [],
   "source": [
    "df = pd.read_csv(path)\n",
    "\n",
    "df['lat'] = df['lat'].astype(str).str.replace(',', '.').astype(float)\n",
    "df['lon'] = df['lon'].astype(str).str.replace(',', '.').astype(float)\n",
    "\n",
    "# 2. Create GeoDataFrame\n",
    "gdf = gpd.GeoDataFrame(df, geometry=gpd.points_from_xy(df.lon, df.lat), crs=\"EPSG:4326\")\n",
    "# gdf.head(25)\n"
   ]
  },
  {
   "cell_type": "code",
   "execution_count": 44,
   "id": "34a915e5",
   "metadata": {},
   "outputs": [
    {
     "data": {
      "text/plain": [
       "Role\n",
       "Cascade     11\n",
       "Lead         5\n",
       "Follower     5\n",
       "Name: count, dtype: int64"
      ]
     },
     "execution_count": 44,
     "metadata": {},
     "output_type": "execute_result"
    }
   ],
   "source": [
    "# 3. Split into three GeoDataFrames\n",
    "gdf_lead = gdf[gdf['Role'] == 'Lead'].copy()\n",
    "gdf_follower = gdf[gdf['Role'] == 'Follower'].copy()\n",
    "gdf_cascade = gdf[gdf['Role'] == 'Cascade'].copy()\n",
    "gdf_lead_follower = gdf[gdf['Role'] != 'Cascade'].copy()\n",
    "gdf[\"Role\"].value_counts()"
   ]
  },
  {
   "cell_type": "code",
   "execution_count": 45,
   "id": "53fb27ae",
   "metadata": {},
   "outputs": [
    {
     "data": {
      "text/html": [
       "<div>\n",
       "<style scoped>\n",
       "    .dataframe tbody tr th:only-of-type {\n",
       "        vertical-align: middle;\n",
       "    }\n",
       "\n",
       "    .dataframe tbody tr th {\n",
       "        vertical-align: top;\n",
       "    }\n",
       "\n",
       "    .dataframe thead th {\n",
       "        text-align: right;\n",
       "    }\n",
       "</style>\n",
       "<table border=\"1\" class=\"dataframe\">\n",
       "  <thead>\n",
       "    <tr style=\"text-align: right;\">\n",
       "      <th></th>\n",
       "      <th>Origin</th>\n",
       "      <th>Destination</th>\n",
       "      <th>Connection</th>\n",
       "      <th>lat0</th>\n",
       "      <th>lng0</th>\n",
       "      <th>lat1</th>\n",
       "      <th>lng1</th>\n",
       "    </tr>\n",
       "  </thead>\n",
       "  <tbody>\n",
       "    <tr>\n",
       "      <th>0</th>\n",
       "      <td>Barcelona</td>\n",
       "      <td>Bologna</td>\n",
       "      <td>1</td>\n",
       "      <td>41.368775</td>\n",
       "      <td>2.161384</td>\n",
       "      <td>44.498955</td>\n",
       "      <td>11.327591</td>\n",
       "    </tr>\n",
       "    <tr>\n",
       "      <th>1</th>\n",
       "      <td>Gothenburg</td>\n",
       "      <td>Tampere</td>\n",
       "      <td>3</td>\n",
       "      <td>57.708870</td>\n",
       "      <td>11.974560</td>\n",
       "      <td>61.500755</td>\n",
       "      <td>23.747862</td>\n",
       "    </tr>\n",
       "    <tr>\n",
       "      <th>2</th>\n",
       "      <td>Heidelberg</td>\n",
       "      <td>Utrecht</td>\n",
       "      <td>4</td>\n",
       "      <td>49.378750</td>\n",
       "      <td>8.652434</td>\n",
       "      <td>52.091900</td>\n",
       "      <td>5.123000</td>\n",
       "    </tr>\n",
       "    <tr>\n",
       "      <th>3</th>\n",
       "      <td>Lyon</td>\n",
       "      <td>Warsaw</td>\n",
       "      <td>5</td>\n",
       "      <td>45.754628</td>\n",
       "      <td>4.812380</td>\n",
       "      <td>52.229700</td>\n",
       "      <td>21.012200</td>\n",
       "    </tr>\n",
       "    <tr>\n",
       "      <th>4</th>\n",
       "      <td>Budapest</td>\n",
       "      <td>Zagreb</td>\n",
       "      <td>2</td>\n",
       "      <td>47.487913</td>\n",
       "      <td>19.060236</td>\n",
       "      <td>45.815000</td>\n",
       "      <td>15.981900</td>\n",
       "    </tr>\n",
       "  </tbody>\n",
       "</table>\n",
       "</div>"
      ],
      "text/plain": [
       "       Origin Destination  Connection       lat0       lng0       lat1  \\\n",
       "0   Barcelona     Bologna           1  41.368775   2.161384  44.498955   \n",
       "1  Gothenburg     Tampere           3  57.708870  11.974560  61.500755   \n",
       "2  Heidelberg     Utrecht           4  49.378750   8.652434  52.091900   \n",
       "3        Lyon      Warsaw           5  45.754628   4.812380  52.229700   \n",
       "4    Budapest      Zagreb           2  47.487913  19.060236  45.815000   \n",
       "\n",
       "        lng1  \n",
       "0  11.327591  \n",
       "1  23.747862  \n",
       "2   5.123000  \n",
       "3  21.012200  \n",
       "4  15.981900  "
      ]
     },
     "execution_count": 45,
     "metadata": {},
     "output_type": "execute_result"
    }
   ],
   "source": [
    "# 4. Build Kepler arc data\n",
    "arc_rows = []\n",
    "\n",
    "for _, follower in gdf_follower.iterrows():\n",
    "    conn_id = follower['Connection']\n",
    "    lead_match = gdf_lead[gdf_lead['Connection'] == conn_id]\n",
    "    if not lead_match.empty:\n",
    "        lead = lead_match.iloc[0]\n",
    "        arc_rows.append({\n",
    "            'Origin': lead['City'],\n",
    "            'Destination': follower['City'],\n",
    "            'Connection': conn_id,\n",
    "            'lat0': lead['lat'],\n",
    "            'lng0': lead['lon'],\n",
    "            'lat1': follower['lat'],\n",
    "            'lng1': follower['lon']\n",
    "        })\n",
    "\n",
    "# 5. Convert to DataFrame for Kepler\n",
    "df_arcs = pd.DataFrame(arc_rows)\n",
    "df_arcs.head()"
   ]
  },
  {
   "cell_type": "markdown",
   "id": "c4212221",
   "metadata": {},
   "source": [
    "# Save data"
   ]
  },
  {
   "cell_type": "code",
   "execution_count": 46,
   "id": "a9868f63",
   "metadata": {},
   "outputs": [],
   "source": [
    "output\n",
    "gdf_lead.to_csv(output+\"lead.csv\")\n",
    "gdf_follower .to_csv(output+\"follower.csv\")\n",
    "gdf_cascade.to_csv(output+\"cascade.csv\")\n",
    "gdf_lead_follower.to_csv(output+\"od_points.csv\")\n",
    "df_arcs.to_csv(output+\"arcs.csv\")"
   ]
  }
 ],
 "metadata": {
  "kernelspec": {
   "display_name": "reallocate-ai",
   "language": "python",
   "name": "python3"
  },
  "language_info": {
   "codemirror_mode": {
    "name": "ipython",
    "version": 3
   },
   "file_extension": ".py",
   "mimetype": "text/x-python",
   "name": "python",
   "nbconvert_exporter": "python",
   "pygments_lexer": "ipython3",
   "version": "3.11.11"
  }
 },
 "nbformat": 4,
 "nbformat_minor": 5
}
