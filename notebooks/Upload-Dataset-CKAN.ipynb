{
 "cells": [
  {
   "cell_type": "markdown",
   "id": "98289df1",
   "metadata": {},
   "source": [
    "# Import a dataset to REALLOCATE CKAN"
   ]
  },
  {
   "cell_type": "code",
   "execution_count": 44,
   "id": "8decc089",
   "metadata": {},
   "outputs": [],
   "source": [
    "from ckanapi import RemoteCKAN\n",
    "from dotenv import load_dotenv\n",
    "import os\n",
    "import pandas as pd\n",
    "from pathlib import Path\n",
    "import requests\n",
    "from io import StringIO"
   ]
  },
  {
   "cell_type": "code",
   "execution_count": 45,
   "id": "fc97a2bf",
   "metadata": {},
   "outputs": [],
   "source": [
    "# ⚙️ Step 2: Set up connection and metadata\n",
    "\n",
    "#Specific\n",
    "DATASET_NAME = \"trips_walking\"\n",
    "DATASET_TITLE = \"Trips walking\"\n",
    "DATASET_DESCRIPTION = \"Walking trips by year from the EMEF data\"\n",
    "DATASET_ID = \"wc9hkmubl7\"\n",
    "DATASET_FORMAT = \"CSV\"\n",
    "DATASET_URL = f\"?id={DATASET_ID}&fileformat={DATASET_FORMAT}\"\n",
    "\n",
    "#General\n",
    "LOCATION = \"../data/\"\n",
    "CSV_FILE = f\"{LOCATION}{DATASET_NAME}.csv\"\n",
    "PARQUET_FILE = f\"{LOCATION}{DATASET_NAME}.parquet\"\n",
    "\n",
    "#Reallocate params\n",
    "REALLOCATE_URL = \"https://reallocate-ckan.iti.gr\"\n",
    "REALLOCATE_KEY = os.getenv(\"REALLOCATE_KEY\")\n",
    "ckan = RemoteCKAN(REALLOCATE_URL, apikey=REALLOCATE_KEY)\n",
    "ORG_INFO = ckan.action.organization_show(id=\"bsc\")\n",
    "\n",
    "#Open data params\n",
    "API_KEY = os.getenv(\"API_KEY\")\n",
    "API_URL = \"https://portaldades.ajuntament.barcelona.cat/services/backend/rest/statistic/export\"\n",
    "# API_URL = \"https://portaldades.ajuntament.barcelona.cat/services/backend/rest/microdata/export\"\n",
    "headers = {'X-IBM-Client-Id': API_KEY}\n",
    "\n",
    "\n",
    "\n",
    "\n"
   ]
  },
  {
   "cell_type": "markdown",
   "id": "204709e3",
   "metadata": {},
   "source": [
    "Specific Parameters History:\n",
    "- Trips walking:\n",
    "    ```Python\n",
    "    DATASET_NAME = \"trips_walking\"\n",
    "    DATASET_TITLE = \"Trips walking\"\n",
    "    DATASET_DESCRIPTION = \"Walking trips by year from the EMEF data\"\n",
    "    DATASET_ID = \"wc9hkmubl7\"\n",
    "    DATASET_FORMAT = \"CSV\"\n",
    "    DATASET_URL = f\"?id={DATASET_ID}&fileformat={DATASET_FORMAT}\"\n",
    "    ```\n",
    "- Bike & PMR:\n",
    "    ```Python\n",
    "    DATASET_NAME = \"bike_and_pmv_by_sex\"\n",
    "    DATASET_TITLE = \"Bike & PMV by sex\"\n",
    "    DATASET_DESCRIPTION = \"Bike & PMV by sex from OD Barcelona\"\n",
    "    DATASET_ID = \"5cid3dkbbx\"\n",
    "    DATASET_FORMAT = \"CSV\"\n",
    "    DATASET_URL = f\"?id={DATASET_ID}&fileformat={DATASET_FORMAT}\"\n",
    "    ```\n",
    "- Public Accesibility\n",
    "    ```Python\n",
    "    DATASET_NAME = \"streets_accessibility\"\n",
    "    DATASET_TITLE = \"Streets' Accessibility\"\n",
    "    DATASET_DESCRIPTION = \"Streets' accessibility in Barcelona city\"\n",
    "    DATASET_ID = \"157b8ef7-e437-4233-a684-edd440b9d3\"\n",
    "    DATASET_FORMAT = \"CSV\"\n",
    "    DATASET_URL = f\"?id={DATASET_ID}&fileformat={DATASET_FORMAT}\"\n",
    "    ```\n"
   ]
  },
  {
   "cell_type": "code",
   "execution_count": 46,
   "id": "fbf1a633",
   "metadata": {},
   "outputs": [],
   "source": [
    "def get_or_create_dataset(ckan, dataset_name, title=None, notes=\"\", org_id=None):\n",
    "    \"\"\"\n",
    "    Get or create a CKAN dataset by name.\n",
    "    \"\"\"\n",
    "    try:\n",
    "        dataset = ckan.action.package_show(id=dataset_name)\n",
    "        print(f\"✅ Dataset '{dataset_name}' already exists.\")\n",
    "    except:\n",
    "        print(f\"ℹ️ Dataset '{dataset_name}' not found. Creating it...\")\n",
    "        create_kwargs = {\n",
    "            \"name\": dataset_name,\n",
    "            \"title\": title or dataset_name,\n",
    "            \"notes\": notes,\n",
    "            \"private\": True\n",
    "        }\n",
    "        if org_id:\n",
    "            create_kwargs[\"owner_org\"] = org_id\n",
    "        dataset = ckan.action.package_create(**create_kwargs)\n",
    "        print(f\"✅ Created dataset '{dataset_name}'.\")\n",
    "    return dataset\n"
   ]
  },
  {
   "cell_type": "code",
   "execution_count": 47,
   "id": "d948db2d",
   "metadata": {},
   "outputs": [],
   "source": [
    "import os\n",
    "\n",
    "def upload_or_update_resource(ckan, dataset_id, file_path, name, fmt):\n",
    "    \"\"\"\n",
    "    If a resource with this name exists in the dataset, update it.\n",
    "    Otherwise, create a new one.\n",
    "    \"\"\"\n",
    "    # Try to find an existing resource\n",
    "    existing_resource = None\n",
    "    dataset = ckan.action.package_show(id=dataset_id)\n",
    "    for res in dataset[\"resources\"]:\n",
    "        if res[\"name\"] == name:\n",
    "            existing_resource = res\n",
    "            break\n",
    "\n",
    "    with open(file_path, \"rb\") as f:\n",
    "        upload_data = {\n",
    "            \"name\": name,\n",
    "            \"format\": fmt,\n",
    "            \"upload\": f\n",
    "        }\n",
    "\n",
    "        if existing_resource:\n",
    "            # Update existing resource\n",
    "            upload_data[\"id\"] = existing_resource[\"id\"]\n",
    "            res = ckan.action.resource_update(**upload_data)\n",
    "            print(f\"🔄 Updated existing resource: {res['id']}\")\n",
    "        else:\n",
    "            # Create new resource\n",
    "            upload_data[\"package_id\"] = dataset_id\n",
    "            res = ckan.action.resource_create(**upload_data)\n",
    "            print(f\"✅ Created new resource: {res['id']}\")\n",
    "\n",
    "    return res\n"
   ]
  },
  {
   "cell_type": "markdown",
   "id": "3e46754c",
   "metadata": {},
   "source": [
    "## Load data"
   ]
  },
  {
   "cell_type": "code",
   "execution_count": 48,
   "id": "e0730da4",
   "metadata": {},
   "outputs": [
    {
     "data": {
      "text/html": [
       "<div>\n",
       "<style scoped>\n",
       "    .dataframe tbody tr th:only-of-type {\n",
       "        vertical-align: middle;\n",
       "    }\n",
       "\n",
       "    .dataframe tbody tr th {\n",
       "        vertical-align: top;\n",
       "    }\n",
       "\n",
       "    .dataframe thead th {\n",
       "        text-align: right;\n",
       "    }\n",
       "</style>\n",
       "<table border=\"1\" class=\"dataframe\">\n",
       "  <thead>\n",
       "    <tr style=\"text-align: right;\">\n",
       "      <th></th>\n",
       "      <th>Gis_ID</th>\n",
       "      <th>N_Gis</th>\n",
       "      <th>Gis_X</th>\n",
       "      <th>Gis_Y</th>\n",
       "      <th>Data d'Alta</th>\n",
       "      <th>Data de Baixa</th>\n",
       "      <th>Situació</th>\n",
       "      <th>Barri</th>\n",
       "      <th>Districte</th>\n",
       "      <th>Tipus</th>\n",
       "      <th>Quantitat</th>\n",
       "      <th>Mesura</th>\n",
       "    </tr>\n",
       "  </thead>\n",
       "  <tbody>\n",
       "    <tr>\n",
       "      <th>0</th>\n",
       "      <td>53</td>\n",
       "      <td>1</td>\n",
       "      <td>428568.7713</td>\n",
       "      <td>4.578089e+06</td>\n",
       "      <td>13/4/2018 0:00:00</td>\n",
       "      <td>NaN</td>\n",
       "      <td>Tram</td>\n",
       "      <td>12. la Marina del Prat Vermell</td>\n",
       "      <td>03. Sants-Montjuic</td>\n",
       "      <td>Graons/Resalts</td>\n",
       "      <td>NaN</td>\n",
       "      <td>NaN</td>\n",
       "    </tr>\n",
       "    <tr>\n",
       "      <th>1</th>\n",
       "      <td>54</td>\n",
       "      <td>2</td>\n",
       "      <td>428561.4783</td>\n",
       "      <td>4.578085e+06</td>\n",
       "      <td>13/4/2018 0:00:00</td>\n",
       "      <td>NaN</td>\n",
       "      <td>Cruïlla</td>\n",
       "      <td>12. la Marina del Prat Vermell</td>\n",
       "      <td>03. Sants-Montjuic</td>\n",
       "      <td>NaN</td>\n",
       "      <td>NaN</td>\n",
       "      <td>NaN</td>\n",
       "    </tr>\n",
       "    <tr>\n",
       "      <th>2</th>\n",
       "      <td>55</td>\n",
       "      <td>3</td>\n",
       "      <td>428547.7503</td>\n",
       "      <td>4.578095e+06</td>\n",
       "      <td>13/4/2018 0:00:00</td>\n",
       "      <td>NaN</td>\n",
       "      <td>Cruïlla</td>\n",
       "      <td>12. la Marina del Prat Vermell</td>\n",
       "      <td>03. Sants-Montjuic</td>\n",
       "      <td>NaN</td>\n",
       "      <td>NaN</td>\n",
       "      <td>400.0</td>\n",
       "    </tr>\n",
       "    <tr>\n",
       "      <th>3</th>\n",
       "      <td>75</td>\n",
       "      <td>4</td>\n",
       "      <td>431202.6671</td>\n",
       "      <td>4.582812e+06</td>\n",
       "      <td>16/4/2018 0:00:00</td>\n",
       "      <td>NaN</td>\n",
       "      <td>Cruïlla</td>\n",
       "      <td>05. el Fort Pienc</td>\n",
       "      <td>02. Eixample</td>\n",
       "      <td>Accessible</td>\n",
       "      <td>NaN</td>\n",
       "      <td>NaN</td>\n",
       "    </tr>\n",
       "    <tr>\n",
       "      <th>4</th>\n",
       "      <td>76</td>\n",
       "      <td>5</td>\n",
       "      <td>431179.3580</td>\n",
       "      <td>4.582835e+06</td>\n",
       "      <td>16/4/2018 0:00:00</td>\n",
       "      <td>NaN</td>\n",
       "      <td>Cruïlla</td>\n",
       "      <td>05. el Fort Pienc</td>\n",
       "      <td>02. Eixample</td>\n",
       "      <td>Accessible</td>\n",
       "      <td>NaN</td>\n",
       "      <td>NaN</td>\n",
       "    </tr>\n",
       "  </tbody>\n",
       "</table>\n",
       "</div>"
      ],
      "text/plain": [
       "   Gis_ID  N_Gis        Gis_X         Gis_Y        Data d'Alta Data de Baixa  \\\n",
       "0      53      1  428568.7713  4.578089e+06  13/4/2018 0:00:00           NaN   \n",
       "1      54      2  428561.4783  4.578085e+06  13/4/2018 0:00:00           NaN   \n",
       "2      55      3  428547.7503  4.578095e+06  13/4/2018 0:00:00           NaN   \n",
       "3      75      4  431202.6671  4.582812e+06  16/4/2018 0:00:00           NaN   \n",
       "4      76      5  431179.3580  4.582835e+06  16/4/2018 0:00:00           NaN   \n",
       "\n",
       "  Situació                           Barri           Districte  \\\n",
       "0     Tram  12. la Marina del Prat Vermell  03. Sants-Montjuic   \n",
       "1  Cruïlla  12. la Marina del Prat Vermell  03. Sants-Montjuic   \n",
       "2  Cruïlla  12. la Marina del Prat Vermell  03. Sants-Montjuic   \n",
       "3  Cruïlla               05. el Fort Pienc        02. Eixample   \n",
       "4  Cruïlla               05. el Fort Pienc        02. Eixample   \n",
       "\n",
       "            Tipus  Quantitat  Mesura  \n",
       "0  Graons/Resalts        NaN     NaN  \n",
       "1             NaN        NaN     NaN  \n",
       "2             NaN        NaN   400.0  \n",
       "3      Accessible        NaN     NaN  \n",
       "4      Accessible        NaN     NaN  "
      ]
     },
     "execution_count": 48,
     "metadata": {},
     "output_type": "execute_result"
    }
   ],
   "source": [
    "# Constants\n",
    "\n",
    "# Fetch CSV content\n",
    "data_response = requests.get((API_URL + DATASET_URL), headers=headers)\n",
    "\n",
    "# Manually decode with correct encoding\n",
    "decoded_text = data_response.content.decode('utf-8')  # or 'cp1252' if needed\n",
    "\n",
    "# Load into StringIO for pandas\n",
    "csv_file = StringIO(decoded_text)\n",
    "# df = pd.read_csv(f\"{LOCATION}inca_od_2022.csv\")\n",
    "\n",
    "# # Preview the data\n",
    "\n",
    "# print(df.columns)\n",
    "# df = df[['Gis_ID', 'N_Gis', 'Gis_X', 'Gis_Y', \"Data d'Alta\", 'Data de Baixa',\n",
    "#        'Situació', \n",
    "#        'Barri', 'Districte', 'Tipus', 'Quantitat', 'Mesura', ]]\n",
    "df.head()\n"
   ]
  },
  {
   "cell_type": "markdown",
   "id": "a7bb3a75",
   "metadata": {},
   "source": [
    "## Clean dataset"
   ]
  },
  {
   "cell_type": "code",
   "execution_count": 49,
   "id": "332cae16",
   "metadata": {},
   "outputs": [],
   "source": [
    "# 🧹 Step 4 (Optional): Clean your dataset\n",
    "\n",
    "# Example: clean datetime\n",
    "if 'Dim-00:TEMPS' in df.columns:\n",
    "    df['Dim-00:TEMPS'] = pd.to_datetime(df['Dim-00:TEMPS'], errors='coerce') \\\n",
    "                            .dt.strftime('%Y-%m-%dT%H:%M:%S')\n",
    "\n",
    "# Ensure numeric columns are properly parsed\n",
    "for col in df.columns:\n",
    "    if col.upper() == \"VALUE\":\n",
    "        df[col] = pd.to_numeric(df[col], errors='coerce')\n"
   ]
  },
  {
   "cell_type": "markdown",
   "id": "4a43365c",
   "metadata": {},
   "source": [
    "## Save "
   ]
  },
  {
   "cell_type": "code",
   "execution_count": 50,
   "id": "03a79557",
   "metadata": {},
   "outputs": [],
   "source": [
    "df.to_csv(CSV_FILE, index=False)\n",
    "df.to_parquet(PARQUET_FILE, index=False)"
   ]
  },
  {
   "cell_type": "markdown",
   "id": "40c9691c",
   "metadata": {},
   "source": [
    "## Create/update dataset"
   ]
  },
  {
   "cell_type": "code",
   "execution_count": 51,
   "id": "c1dacc65",
   "metadata": {},
   "outputs": [
    {
     "name": "stdout",
     "output_type": "stream",
     "text": [
      "✅ Dataset 'trips_walking' already exists.\n"
     ]
    }
   ],
   "source": [
    "dataset = get_or_create_dataset(\n",
    "    ckan,\n",
    "    dataset_name=DATASET_NAME,\n",
    "    title=DATASET_TITLE,\n",
    "    notes=DATASET_DESCRIPTION,\n",
    "    org_id=ORG_INFO[\"id\"]  # optional\n",
    ")\n"
   ]
  },
  {
   "cell_type": "markdown",
   "id": "d1ce6d3d",
   "metadata": {},
   "source": [
    "## Upload dataset"
   ]
  },
  {
   "cell_type": "code",
   "execution_count": 52,
   "id": "72223758",
   "metadata": {},
   "outputs": [
    {
     "name": "stdout",
     "output_type": "stream",
     "text": [
      "🔄 Updated existing resource: 619673e7-3b51-4bf5-b0ca-bc035eb4136e\n"
     ]
    },
    {
     "data": {
      "text/plain": [
       "{'cache_last_updated': None,\n",
       " 'cache_url': None,\n",
       " 'created': '2025-06-25T12:18:24.561934',\n",
       " 'datastore_active': True,\n",
       " 'description': None,\n",
       " 'format': 'CSV',\n",
       " 'hash': '',\n",
       " 'id': '619673e7-3b51-4bf5-b0ca-bc035eb4136e',\n",
       " 'last_modified': '2025-06-25T15:34:49.293048',\n",
       " 'metadata_modified': '2025-06-25T15:34:49.301497',\n",
       " 'mimetype': 'text/csv',\n",
       " 'mimetype_inner': None,\n",
       " 'name': 'Trips walking (CSV)',\n",
       " 'package_id': '6f32fa1e-459a-48d3-891a-234c98984b7f',\n",
       " 'position': 0,\n",
       " 'resource_type': None,\n",
       " 'size': 18898340,\n",
       " 'state': 'active',\n",
       " 'url': 'https://reallocate-ckan.iti.gr:443/dataset/6f32fa1e-459a-48d3-891a-234c98984b7f/resource/619673e7-3b51-4bf5-b0ca-bc035eb4136e/download/trips_walking.csv',\n",
       " 'url_type': 'upload'}"
      ]
     },
     "execution_count": 52,
     "metadata": {},
     "output_type": "execute_result"
    }
   ],
   "source": [
    "upload_or_update_resource(\n",
    "    ckan,\n",
    "    dataset_id=dataset[\"id\"],\n",
    "    file_path=CSV_FILE,\n",
    "    name=f\"{DATASET_TITLE} (CSV)\",\n",
    "    fmt=\"CSV\"\n",
    ")"
   ]
  },
  {
   "cell_type": "code",
   "execution_count": 53,
   "id": "9341f3a7",
   "metadata": {},
   "outputs": [
    {
     "name": "stdout",
     "output_type": "stream",
     "text": [
      "🔄 Updated existing resource: da447b40-2523-41ef-a95b-dbad84ad2320\n"
     ]
    },
    {
     "data": {
      "text/plain": [
       "{'cache_last_updated': None,\n",
       " 'cache_url': None,\n",
       " 'created': '2025-06-25T12:18:28.220333',\n",
       " 'datastore_active': False,\n",
       " 'description': None,\n",
       " 'format': 'Parquet',\n",
       " 'hash': '',\n",
       " 'id': 'da447b40-2523-41ef-a95b-dbad84ad2320',\n",
       " 'last_modified': '2025-06-25T15:34:54.831819',\n",
       " 'metadata_modified': '2025-06-25T15:34:54.839855',\n",
       " 'mimetype': None,\n",
       " 'mimetype_inner': None,\n",
       " 'name': 'Trips walking (Parquet)',\n",
       " 'package_id': '6f32fa1e-459a-48d3-891a-234c98984b7f',\n",
       " 'position': 1,\n",
       " 'resource_type': None,\n",
       " 'size': 5086933,\n",
       " 'state': 'active',\n",
       " 'url': 'https://reallocate-ckan.iti.gr:443/dataset/6f32fa1e-459a-48d3-891a-234c98984b7f/resource/da447b40-2523-41ef-a95b-dbad84ad2320/download/trips_walking.parquet',\n",
       " 'url_type': 'upload'}"
      ]
     },
     "execution_count": 53,
     "metadata": {},
     "output_type": "execute_result"
    }
   ],
   "source": [
    "upload_or_update_resource(\n",
    "    ckan,\n",
    "    dataset_id=dataset[\"id\"],\n",
    "    file_path=PARQUET_FILE,\n",
    "    name=f\"{DATASET_TITLE} (Parquet)\",\n",
    "    fmt=\"Parquet\"\n",
    ")"
   ]
  }
 ],
 "metadata": {
  "kernelspec": {
   "display_name": ".venv",
   "language": "python",
   "name": "python3"
  },
  "language_info": {
   "codemirror_mode": {
    "name": "ipython",
    "version": 3
   },
   "file_extension": ".py",
   "mimetype": "text/x-python",
   "name": "python",
   "nbconvert_exporter": "python",
   "pygments_lexer": "ipython3",
   "version": "3.11.11"
  }
 },
 "nbformat": 4,
 "nbformat_minor": 5
}
