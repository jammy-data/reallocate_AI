{
 "cells": [
  {
   "cell_type": "markdown",
   "id": "98289df1",
   "metadata": {},
   "source": [
    "# Import a dataset to REALLOCATE CKAN"
   ]
  },
  {
   "cell_type": "code",
   "execution_count": 1,
   "id": "8decc089",
   "metadata": {},
   "outputs": [
    {
     "name": "stderr",
     "output_type": "stream",
     "text": [
      "/Users/jamesmurphy/Documents/reallocate_AI/.venv/lib/python3.11/site-packages/ckanapi/version.py:1: UserWarning: pkg_resources is deprecated as an API. See https://setuptools.pypa.io/en/latest/pkg_resources.html. The pkg_resources package is slated for removal as early as 2025-11-30. Refrain from using this package or pin to Setuptools<81.\n",
      "  import pkg_resources\n"
     ]
    }
   ],
   "source": [
    "from ckanapi import RemoteCKAN\n",
    "from dotenv import load_dotenv\n",
    "import os\n",
    "import pandas as pd\n",
    "from pathlib import Path\n",
    "import requests\n",
    "from io import StringIO, BytesIO # ADD BytesIO here"
   ]
  },
  {
   "cell_type": "code",
   "execution_count": 2,
   "id": "fc97a2bf",
   "metadata": {},
   "outputs": [],
   "source": [
    "# ⚙️ Step 2: Set up connection and metadata\n",
    "\n",
    "#Specific\n",
    "DATASET_NAME = \"trips_walking\"\n",
    "DATASET_TITLE = \"Trips walking\"\n",
    "DATASET_DESCRIPTION = \"Walking trips by year from the EMEF data\"\n",
    "DATASET_ID = \"wc9hkmubl7\"\n",
    "DATASET_FORMAT = \"CSV\"\n",
    "DATASET_URL = f\"?id={DATASET_ID}&fileformat={DATASET_FORMAT}\"\n",
    "\n",
    "#General\n",
    "LOCATION = \"../data/\"\n",
    "#CSV_FILE = f\"{LOCATION}{DATASET_NAME}.csv\"\n",
    "#PARQUET_FILE = f\"{LOCATION}{DATASET_NAME}.parquet\"\n",
    "\n",
    "#Reallocate params\n",
    "REALLOCATE_URL = \"https://reallocate-ckan.iti.gr\"\n",
    "REALLOCATE_KEY = os.getenv(\"REALLOCATE_KEY\")\n",
    "ckan = RemoteCKAN(REALLOCATE_URL, apikey=REALLOCATE_KEY)\n",
    "ORG_INFO = ckan.action.organization_show(id=\"bsc\")\n",
    "\n",
    "#Open data params\n",
    "API_KEY = os.getenv(\"API_KEY\")\n",
    "API_URL = \"https://portaldades.ajuntament.barcelona.cat/services/backend/rest/statistic/export\"\n",
    "# API_URL = \"https://portaldades.ajuntament.barcelona.cat/services/backend/rest/microdata/export\"\n",
    "headers = {'X-IBM-Client-Id': API_KEY}\n",
    "\n",
    "\n",
    "\n",
    "\n"
   ]
  },
  {
   "cell_type": "markdown",
   "id": "204709e3",
   "metadata": {},
   "source": [
    "Specific Parameters History:\n",
    "- Trips walking:\n",
    "    ```Python\n",
    "    DATASET_NAME = \"trips_walking\"\n",
    "    DATASET_TITLE = \"Trips walking\"\n",
    "    DATASET_DESCRIPTION = \"Walking trips by year from the EMEF data\"\n",
    "    DATASET_ID = \"wc9hkmubl7\"\n",
    "    DATASET_FORMAT = \"CSV\"\n",
    "    DATASET_URL = f\"?id={DATASET_ID}&fileformat={DATASET_FORMAT}\"\n",
    "    ```\n",
    "- Bike & PMR:\n",
    "    ```Python\n",
    "    DATASET_NAME = \"bike_and_pmv_by_sex\"\n",
    "    DATASET_TITLE = \"Bike & PMV by sex\"\n",
    "    DATASET_DESCRIPTION = \"Bike & PMV by sex from OD Barcelona\"\n",
    "    DATASET_ID = \"5cid3dkbbx\"\n",
    "    DATASET_FORMAT = \"CSV\"\n",
    "    DATASET_URL = f\"?id={DATASET_ID}&fileformat={DATASET_FORMAT}\"\n",
    "    ```\n",
    "- Public Accesibility\n",
    "    ```Python\n",
    "    DATASET_NAME = \"streets_accessibility\"\n",
    "    DATASET_TITLE = \"Streets' Accessibility\"\n",
    "    DATASET_DESCRIPTION = \"Streets' accessibility in Barcelona city\"\n",
    "    DATASET_ID = \"157b8ef7-e437-4233-a684-edd440b9d3\"\n",
    "    DATASET_FORMAT = \"CSV\"\n",
    "    DATASET_URL = f\"?id={DATASET_ID}&fileformat={DATASET_FORMAT}\"\n",
    "    ```\n"
   ]
  },
  {
   "cell_type": "code",
   "execution_count": 3,
   "id": "fbf1a633",
   "metadata": {},
   "outputs": [],
   "source": [
    "def get_or_create_dataset(ckan, dataset_name, title=None, notes=\"\", org_id=None):\n",
    "    \"\"\"\n",
    "    Get or create a CKAN dataset by name.\n",
    "    \"\"\"\n",
    "    try:\n",
    "        dataset = ckan.action.package_show(id=dataset_name)\n",
    "        print(f\"✅ Dataset '{dataset_name}' already exists.\")\n",
    "    except:\n",
    "        print(f\"ℹ️ Dataset '{dataset_name}' not found. Creating it...\")\n",
    "        create_kwargs = {\n",
    "            \"name\": dataset_name,\n",
    "            \"title\": title or dataset_name,\n",
    "            \"notes\": notes,\n",
    "            \"private\": True\n",
    "        }\n",
    "        if org_id:\n",
    "            create_kwargs[\"owner_org\"] = org_id\n",
    "        dataset = ckan.action.package_create(**create_kwargs)\n",
    "        print(f\"✅ Created dataset '{dataset_name}'.\")\n",
    "    return dataset\n"
   ]
  },
  {
   "cell_type": "code",
   "execution_count": 4,
   "id": "d948db2d",
   "metadata": {},
   "outputs": [],
   "source": [
    "import os\n",
    "from io import StringIO, BytesIO # Ensure these are imported at the top of your notebook\n",
    "\n",
    "def upload_or_update_resource(ckan, dataset_id, file_content, name, fmt): # <--- Make sure this parameter is 'file_content'\n",
    "    \"\"\"\n",
    "    If a resource with this name exists in the dataset, update it.\n",
    "    Otherwise, create a new one.\n",
    "    file_content can be a file path (string) or a file-like object (StringIO, BytesIO).\n",
    "    \"\"\"\n",
    "    # Try to find an existing resource\n",
    "    existing_resource = None\n",
    "    dataset = ckan.action.package_show(id=dataset_id)\n",
    "    for res in dataset[\"resources\"]:\n",
    "        if res[\"name\"] == name:\n",
    "            existing_resource = res\n",
    "            break\n",
    "\n",
    "    # Determine how to get the upload data\n",
    "    upload_file_object = None\n",
    "    if isinstance(file_content, (StringIO, BytesIO)):\n",
    "        # If it's already a file-like object, use it directly\n",
    "        upload_file_object = file_content\n",
    "    elif isinstance(file_content, str) and os.path.exists(file_content):\n",
    "        # If it's a string path to an existing file, open it\n",
    "        upload_file_object = open(file_content, \"rb\")\n",
    "    else:\n",
    "        raise ValueError(\"file_content must be a valid file path or a file-like object (StringIO/BytesIO).\")\n",
    "\n",
    "    try:\n",
    "        upload_data = {\n",
    "            \"name\": name,\n",
    "            \"format\": fmt,\n",
    "            \"upload\": upload_file_object # Pass the file-like object\n",
    "        }\n",
    "\n",
    "        if existing_resource:\n",
    "            # Update existing resource\n",
    "            upload_data[\"id\"] = existing_resource[\"id\"]\n",
    "            res = ckan.action.resource_update(**upload_data)\n",
    "            print(f\"🔄 Updated existing resource: {res['id']}\")\n",
    "        else:\n",
    "            # Create new resource\n",
    "            upload_data[\"package_id\"] = dataset_id\n",
    "            res = ckan.action.resource_create(**upload_data)\n",
    "            print(f\"✅ Created new resource: {res['id']}\")\n",
    "\n",
    "    finally:\n",
    "        # If we opened a file, make sure to close it\n",
    "        if isinstance(file_content, str) and os.path.exists(file_content) and upload_file_object:\n",
    "            upload_file_object.close()\n",
    "\n",
    "    return res"
   ]
  },
  {
   "cell_type": "markdown",
   "id": "3e46754c",
   "metadata": {},
   "source": [
    "## Load data"
   ]
  },
  {
   "cell_type": "code",
   "execution_count": 5,
   "id": "e0730da4",
   "metadata": {},
   "outputs": [
    {
     "data": {
      "application/vnd.microsoft.datawrangler.viewer.v0+json": {
       "columns": [
        {
         "name": "index",
         "rawType": "int64",
         "type": "integer"
        },
        {
         "name": "Dim-00:TEMPS",
         "rawType": "object",
         "type": "string"
        },
        {
         "name": "Dim-01:TERRITORI",
         "rawType": "object",
         "type": "string"
        },
        {
         "name": "Dim-01:TERRITORI (order)",
         "rawType": "int64",
         "type": "integer"
        },
        {
         "name": "Dim-01:TERRITORI (type)",
         "rawType": "object",
         "type": "string"
        },
        {
         "name": "Dim-02:TIPUS DE ETAPA",
         "rawType": "object",
         "type": "string"
        },
        {
         "name": "VALUE",
         "rawType": "float64",
         "type": "float"
        }
       ],
       "ref": "5cf49af5-3d2b-4d02-afe3-b73d28801dc7",
       "rows": [
        [
         "0",
         "2015-01-01T00:00:00Z",
         "Barcelona",
         "-1",
         "Municipi",
         "Connexió",
         "80657.0"
        ],
        [
         "1",
         "2015-01-01T00:00:00Z",
         "Barcelona",
         "-1",
         "Municipi",
         "Interna",
         "3280032.0"
        ],
        [
         "2",
         "2016-01-01T00:00:00Z",
         "Barcelona",
         "-1",
         "Municipi",
         "Connexió",
         "58655.0"
        ],
        [
         "3",
         "2016-01-01T00:00:00Z",
         "Barcelona",
         "-1",
         "Municipi",
         "Interna",
         "2385291.0"
        ],
        [
         "4",
         "2017-01-01T00:00:00Z",
         "Barcelona",
         "-1",
         "Municipi",
         "Interna",
         "2287812.0"
        ]
       ],
       "shape": {
        "columns": 6,
        "rows": 5
       }
      },
      "text/html": [
       "<div>\n",
       "<style scoped>\n",
       "    .dataframe tbody tr th:only-of-type {\n",
       "        vertical-align: middle;\n",
       "    }\n",
       "\n",
       "    .dataframe tbody tr th {\n",
       "        vertical-align: top;\n",
       "    }\n",
       "\n",
       "    .dataframe thead th {\n",
       "        text-align: right;\n",
       "    }\n",
       "</style>\n",
       "<table border=\"1\" class=\"dataframe\">\n",
       "  <thead>\n",
       "    <tr style=\"text-align: right;\">\n",
       "      <th></th>\n",
       "      <th>Dim-00:TEMPS</th>\n",
       "      <th>Dim-01:TERRITORI</th>\n",
       "      <th>Dim-01:TERRITORI (order)</th>\n",
       "      <th>Dim-01:TERRITORI (type)</th>\n",
       "      <th>Dim-02:TIPUS DE ETAPA</th>\n",
       "      <th>VALUE</th>\n",
       "    </tr>\n",
       "  </thead>\n",
       "  <tbody>\n",
       "    <tr>\n",
       "      <th>0</th>\n",
       "      <td>2015-01-01T00:00:00Z</td>\n",
       "      <td>Barcelona</td>\n",
       "      <td>-1</td>\n",
       "      <td>Municipi</td>\n",
       "      <td>Connexió</td>\n",
       "      <td>80657.0</td>\n",
       "    </tr>\n",
       "    <tr>\n",
       "      <th>1</th>\n",
       "      <td>2015-01-01T00:00:00Z</td>\n",
       "      <td>Barcelona</td>\n",
       "      <td>-1</td>\n",
       "      <td>Municipi</td>\n",
       "      <td>Interna</td>\n",
       "      <td>3280032.0</td>\n",
       "    </tr>\n",
       "    <tr>\n",
       "      <th>2</th>\n",
       "      <td>2016-01-01T00:00:00Z</td>\n",
       "      <td>Barcelona</td>\n",
       "      <td>-1</td>\n",
       "      <td>Municipi</td>\n",
       "      <td>Connexió</td>\n",
       "      <td>58655.0</td>\n",
       "    </tr>\n",
       "    <tr>\n",
       "      <th>3</th>\n",
       "      <td>2016-01-01T00:00:00Z</td>\n",
       "      <td>Barcelona</td>\n",
       "      <td>-1</td>\n",
       "      <td>Municipi</td>\n",
       "      <td>Interna</td>\n",
       "      <td>2385291.0</td>\n",
       "    </tr>\n",
       "    <tr>\n",
       "      <th>4</th>\n",
       "      <td>2017-01-01T00:00:00Z</td>\n",
       "      <td>Barcelona</td>\n",
       "      <td>-1</td>\n",
       "      <td>Municipi</td>\n",
       "      <td>Interna</td>\n",
       "      <td>2287812.0</td>\n",
       "    </tr>\n",
       "  </tbody>\n",
       "</table>\n",
       "</div>"
      ],
      "text/plain": [
       "           Dim-00:TEMPS Dim-01:TERRITORI  Dim-01:TERRITORI (order)  \\\n",
       "0  2015-01-01T00:00:00Z        Barcelona                        -1   \n",
       "1  2015-01-01T00:00:00Z        Barcelona                        -1   \n",
       "2  2016-01-01T00:00:00Z        Barcelona                        -1   \n",
       "3  2016-01-01T00:00:00Z        Barcelona                        -1   \n",
       "4  2017-01-01T00:00:00Z        Barcelona                        -1   \n",
       "\n",
       "  Dim-01:TERRITORI (type) Dim-02:TIPUS DE ETAPA      VALUE  \n",
       "0                Municipi              Connexió    80657.0  \n",
       "1                Municipi               Interna  3280032.0  \n",
       "2                Municipi              Connexió    58655.0  \n",
       "3                Municipi               Interna  2385291.0  \n",
       "4                Municipi               Interna  2287812.0  "
      ]
     },
     "execution_count": 5,
     "metadata": {},
     "output_type": "execute_result"
    }
   ],
   "source": [
    "# Constants\n",
    "\n",
    "# Fetch CSV content\n",
    "data_response = requests.get((API_URL + DATASET_URL), headers=headers)\n",
    "\n",
    "# Manually decode with correct encoding\n",
    "decoded_text = data_response.content.decode('utf-8')  # or 'cp1252' if needed\n",
    "\n",
    "# Load into StringIO for pandas\n",
    "csv_file = StringIO(decoded_text)\n",
    "df = pd.read_csv(csv_file)\n",
    "\n",
    "# # Preview the data\n",
    "\n",
    "# print(df.columns)\n",
    "# df = df[['Gis_ID', 'N_Gis', 'Gis_X', 'Gis_Y', \"Data d'Alta\", 'Data de Baixa',\n",
    "#        'Situació', \n",
    "#        'Barri', 'Districte', 'Tipus', 'Quantitat', 'Mesura', ]]\n",
    "df.head()\n"
   ]
  },
  {
   "cell_type": "markdown",
   "id": "a7bb3a75",
   "metadata": {},
   "source": [
    "## Clean dataset"
   ]
  },
  {
   "cell_type": "code",
   "execution_count": 6,
   "id": "332cae16",
   "metadata": {},
   "outputs": [],
   "source": [
    "# 🧹 Step 4 (Optional): Clean your dataset\n",
    "\n",
    "# Example: clean datetime\n",
    "if 'Dim-00:TEMPS' in df.columns:\n",
    "    df['Dim-00:TEMPS'] = pd.to_datetime(df['Dim-00:TEMPS'], errors='coerce') \\\n",
    "                            .dt.strftime('%Y-%m-%dT%H:%M:%S')\n",
    "\n",
    "# Ensure numeric columns are properly parsed\n",
    "for col in df.columns:\n",
    "    if col.upper() == \"VALUE\":\n",
    "        df[col] = pd.to_numeric(df[col], errors='coerce')\n"
   ]
  },
  {
   "cell_type": "markdown",
   "id": "4a43365c",
   "metadata": {},
   "source": [
    "## Save "
   ]
  },
  {
   "cell_type": "code",
   "execution_count": 7,
   "id": "03a79557",
   "metadata": {},
   "outputs": [
    {
     "name": "stdout",
     "output_type": "stream",
     "text": [
      "✅ Data converted to in-memory CSV and Parquet buffers.\n"
     ]
    }
   ],
   "source": [
    "# ## Save\n",
    "# Convert DataFrame to in-memory CSV string\n",
    "csv_buffer = StringIO()\n",
    "df.to_csv(csv_buffer, index=False)\n",
    "csv_buffer.seek(0) # Rewind the buffer to the beginning\n",
    "\n",
    "# Convert DataFrame to in-memory Parquet bytes\n",
    "parquet_buffer = BytesIO()\n",
    "df.to_parquet(parquet_buffer, index=False)\n",
    "parquet_buffer.seek(0) # Rewind the buffer to the beginning\n",
    "\n",
    "print(\"✅ Data converted to in-memory CSV and Parquet buffers.\")"
   ]
  },
  {
   "cell_type": "markdown",
   "id": "40c9691c",
   "metadata": {},
   "source": [
    "## Create/update dataset"
   ]
  },
  {
   "cell_type": "code",
   "execution_count": 8,
   "id": "c1dacc65",
   "metadata": {},
   "outputs": [
    {
     "name": "stdout",
     "output_type": "stream",
     "text": [
      "✅ Dataset 'trips_walking' already exists.\n"
     ]
    }
   ],
   "source": [
    "dataset = get_or_create_dataset(\n",
    "    ckan,\n",
    "    dataset_name=DATASET_NAME,\n",
    "    title=DATASET_TITLE,\n",
    "    notes=DATASET_DESCRIPTION,\n",
    "    org_id=ORG_INFO[\"id\"]  # optional\n",
    ")\n"
   ]
  },
  {
   "cell_type": "markdown",
   "id": "d1ce6d3d",
   "metadata": {},
   "source": [
    "## Upload dataset"
   ]
  },
  {
   "cell_type": "markdown",
   "id": "18e5f806",
   "metadata": {},
   "source": [
    "### CSV"
   ]
  },
  {
   "cell_type": "code",
   "execution_count": 11,
   "id": "72223758",
   "metadata": {},
   "outputs": [
    {
     "name": "stdout",
     "output_type": "stream",
     "text": [
      "🔄 Updated existing resource: 619673e7-3b51-4bf5-b0ca-bc035eb4136e\n",
      "🔄 Updated existing resource: da447b40-2523-41ef-a95b-dbad84ad2320\n",
      "✅ Both CSV and Parquet resources uploaded directly from memory.\n"
     ]
    }
   ],
   "source": [
    "# ## Upload dataset\n",
    "\n",
    "# Upload CSV resource\n",
    "# Use the in-memory csv_buffer directly for upload\n",
    "upload_or_update_resource(\n",
    "    ckan,\n",
    "    dataset_id=dataset[\"id\"],\n",
    "    file_content =csv_buffer, # Pass the StringIO object\n",
    "    name=f\"{DATASET_TITLE} (CSV)\",\n",
    "    fmt=\"CSV\"\n",
    ")\n",
    "\n",
    "# Upload Parquet resource\n",
    "# Use the in-memory parquet_buffer directly for upload\n",
    "upload_or_update_resource(\n",
    "    ckan,\n",
    "    dataset_id=dataset[\"id\"],\n",
    "    file_content =parquet_buffer, # Pass the BytesIO object\n",
    "    name=f\"{DATASET_TITLE} (Parquet)\",\n",
    "    fmt=\"Parquet\"\n",
    ")\n",
    "\n",
    "print(\"✅ Both CSV and Parquet resources uploaded directly from memory.\")"
   ]
  }
 ],
 "metadata": {
  "kernelspec": {
   "display_name": ".venv",
   "language": "python",
   "name": "python3"
  },
  "language_info": {
   "codemirror_mode": {
    "name": "ipython",
    "version": 3
   },
   "file_extension": ".py",
   "mimetype": "text/x-python",
   "name": "python",
   "nbconvert_exporter": "python",
   "pygments_lexer": "ipython3",
   "version": "3.11.13"
  }
 },
 "nbformat": 4,
 "nbformat_minor": 5
}
