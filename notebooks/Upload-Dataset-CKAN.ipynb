{
 "cells": [
  {
   "cell_type": "markdown",
   "id": "98289df1",
   "metadata": {},
   "source": [
    "# Import a dataset to REALLOCATE CKAN"
   ]
  },
  {
   "cell_type": "code",
   "execution_count": 6,
   "id": "8decc089",
   "metadata": {},
   "outputs": [],
   "source": [
    "from ckanapi import RemoteCKAN\n",
    "from dotenv import load_dotenv\n",
    "import os\n",
    "import pandas as pd"
   ]
  },
  {
   "cell_type": "code",
   "execution_count": 25,
   "id": "fc97a2bf",
   "metadata": {},
   "outputs": [],
   "source": [
    "# ⚙️ Step 2: Set up connection and metadata\n",
    "FILE_NAME = \"cleaned_file.csv\"\n",
    "\n",
    "CKAN_URL = \"https://reallocate-ckan.iti.gr\"\n",
    "API_KEY = os.getenv(\"REALLOCATE_KEY\")\n",
    "DATASET_NAME = \"Test-parquet\"  # must exist, or you can create it\n",
    "\n",
    "ORG_INFO = ckan.action.organization_show(id=\"bsc\")\n",
    "\n",
    "ckan = RemoteCKAN(CKAN_URL, apikey=API_KEY)\n"
   ]
  },
  {
   "cell_type": "code",
   "execution_count": 21,
   "id": "fbf1a633",
   "metadata": {},
   "outputs": [],
   "source": [
    "def get_or_create_dataset(ckan, dataset_name, title=None, notes=\"\", org_id=None):\n",
    "    \"\"\"\n",
    "    Get or create a CKAN dataset by name.\n",
    "    \"\"\"\n",
    "    try:\n",
    "        dataset = ckan.action.package_show(id=dataset_name)\n",
    "        print(f\"✅ Dataset '{dataset_name}' already exists.\")\n",
    "    except:\n",
    "        print(f\"ℹ️ Dataset '{dataset_name}' not found. Creating it...\")\n",
    "        create_kwargs = {\n",
    "            \"name\": dataset_name,\n",
    "            \"title\": title or dataset_name,\n",
    "            \"notes\": notes,\n",
    "            \"private\": True\n",
    "        }\n",
    "        if org_id:\n",
    "            create_kwargs[\"owner_org\"] = org_id\n",
    "        dataset = ckan.action.package_create(**create_kwargs)\n",
    "        print(f\"✅ Created dataset '{dataset_name}'.\")\n",
    "    return dataset\n"
   ]
  },
  {
   "cell_type": "markdown",
   "id": "3e46754c",
   "metadata": {},
   "source": [
    "## Load data"
   ]
  },
  {
   "cell_type": "code",
   "execution_count": 11,
   "id": "e0730da4",
   "metadata": {},
   "outputs": [
    {
     "data": {
      "text/html": [
       "<div>\n",
       "<style scoped>\n",
       "    .dataframe tbody tr th:only-of-type {\n",
       "        vertical-align: middle;\n",
       "    }\n",
       "\n",
       "    .dataframe tbody tr th {\n",
       "        vertical-align: top;\n",
       "    }\n",
       "\n",
       "    .dataframe thead th {\n",
       "        text-align: right;\n",
       "    }\n",
       "</style>\n",
       "<table border=\"1\" class=\"dataframe\">\n",
       "  <thead>\n",
       "    <tr style=\"text-align: right;\">\n",
       "      <th></th>\n",
       "      <th>Dim-00:TEMPS</th>\n",
       "      <th>Dim-01:TERRITORI</th>\n",
       "      <th>Dim-01:TERRITORI (order)</th>\n",
       "      <th>Dim-01:TERRITORI (type)</th>\n",
       "      <th>Dim-02:TIPUS DE ETAPA</th>\n",
       "      <th>VALUE</th>\n",
       "    </tr>\n",
       "  </thead>\n",
       "  <tbody>\n",
       "    <tr>\n",
       "      <th>0</th>\n",
       "      <td>2015-01-01T00:00:00</td>\n",
       "      <td>Barcelona</td>\n",
       "      <td>-1</td>\n",
       "      <td>Municipi</td>\n",
       "      <td>Connexió</td>\n",
       "      <td>80657.0</td>\n",
       "    </tr>\n",
       "    <tr>\n",
       "      <th>1</th>\n",
       "      <td>2015-01-01T00:00:00</td>\n",
       "      <td>Barcelona</td>\n",
       "      <td>-1</td>\n",
       "      <td>Municipi</td>\n",
       "      <td>Interna</td>\n",
       "      <td>3280032.0</td>\n",
       "    </tr>\n",
       "    <tr>\n",
       "      <th>2</th>\n",
       "      <td>2016-01-01T00:00:00</td>\n",
       "      <td>Barcelona</td>\n",
       "      <td>-1</td>\n",
       "      <td>Municipi</td>\n",
       "      <td>Connexió</td>\n",
       "      <td>58655.0</td>\n",
       "    </tr>\n",
       "    <tr>\n",
       "      <th>3</th>\n",
       "      <td>2016-01-01T00:00:00</td>\n",
       "      <td>Barcelona</td>\n",
       "      <td>-1</td>\n",
       "      <td>Municipi</td>\n",
       "      <td>Interna</td>\n",
       "      <td>2385291.0</td>\n",
       "    </tr>\n",
       "    <tr>\n",
       "      <th>4</th>\n",
       "      <td>2017-01-01T00:00:00</td>\n",
       "      <td>Barcelona</td>\n",
       "      <td>-1</td>\n",
       "      <td>Municipi</td>\n",
       "      <td>Interna</td>\n",
       "      <td>2287812.0</td>\n",
       "    </tr>\n",
       "  </tbody>\n",
       "</table>\n",
       "</div>"
      ],
      "text/plain": [
       "          Dim-00:TEMPS Dim-01:TERRITORI  Dim-01:TERRITORI (order)  \\\n",
       "0  2015-01-01T00:00:00        Barcelona                        -1   \n",
       "1  2015-01-01T00:00:00        Barcelona                        -1   \n",
       "2  2016-01-01T00:00:00        Barcelona                        -1   \n",
       "3  2016-01-01T00:00:00        Barcelona                        -1   \n",
       "4  2017-01-01T00:00:00        Barcelona                        -1   \n",
       "\n",
       "  Dim-01:TERRITORI (type) Dim-02:TIPUS DE ETAPA      VALUE  \n",
       "0                Municipi              Connexió    80657.0  \n",
       "1                Municipi               Interna  3280032.0  \n",
       "2                Municipi              Connexió    58655.0  \n",
       "3                Municipi               Interna  2385291.0  \n",
       "4                Municipi               Interna  2287812.0  "
      ]
     },
     "execution_count": 11,
     "metadata": {},
     "output_type": "execute_result"
    }
   ],
   "source": [
    "df = pd.read_csv(FILE_NAME)\n",
    "\n",
    "df.head()"
   ]
  },
  {
   "cell_type": "markdown",
   "id": "a7bb3a75",
   "metadata": {},
   "source": [
    "## Clean dataset"
   ]
  },
  {
   "cell_type": "code",
   "execution_count": 9,
   "id": "332cae16",
   "metadata": {},
   "outputs": [],
   "source": [
    "# 🧹 Step 4 (Optional): Clean your dataset\n",
    "\n",
    "# Example: clean datetime\n",
    "if 'Dim-00:TEMPS' in df.columns:\n",
    "    df['Dim-00:TEMPS'] = pd.to_datetime(df['Dim-00:TEMPS'], errors='coerce') \\\n",
    "                            .dt.strftime('%Y-%m-%dT%H:%M:%S')\n",
    "\n",
    "# Ensure numeric columns are properly parsed\n",
    "for col in df.columns:\n",
    "    if col.upper() == \"VALUE\":\n",
    "        df[col] = pd.to_numeric(df[col], errors='coerce')\n"
   ]
  },
  {
   "cell_type": "markdown",
   "id": "40c9691c",
   "metadata": {},
   "source": [
    "## Create/update dataset"
   ]
  },
  {
   "cell_type": "code",
   "execution_count": 26,
   "id": "c1dacc65",
   "metadata": {},
   "outputs": [
    {
     "name": "stdout",
     "output_type": "stream",
     "text": [
      "ℹ️ Dataset 'cycling-counts-bcn' not found. Creating it...\n",
      "✅ Created dataset 'cycling-counts-bcn'.\n"
     ]
    }
   ],
   "source": [
    "dataset = get_or_create_dataset(\n",
    "    ckan,\n",
    "    dataset_name=\"cycling-counts-bcn\",\n",
    "    title=\"Cycling Counts in Barcelona\",\n",
    "    notes=\"Bike counter data exported from municipal records\",\n",
    "    org_id=ORG_INFO[\"id\"]  # optional\n",
    ")\n"
   ]
  },
  {
   "cell_type": "markdown",
   "id": "d1ce6d3d",
   "metadata": {},
   "source": [
    "## Upload dataset"
   ]
  },
  {
   "cell_type": "code",
   "execution_count": 28,
   "id": "6e7199d6",
   "metadata": {},
   "outputs": [
    {
     "name": "stdout",
     "output_type": "stream",
     "text": [
      "✅ File uploaded as resource: 65b382e5-351a-4751-8cb2-9537f9fb8017\n",
      "✅ Data uploaded to DataStore: 18 records\n"
     ]
    }
   ],
   "source": [
    "# ✅ Add data to CKAN: upload file and push to DataStore\n",
    "\n",
    "from pathlib import Path\n",
    "\n",
    "# 🔧 Set local file and metadata\n",
    "FILE_PATH = \"cleaned_file.csv\"  # or your_file.parquet\n",
    "RESOURCE_NAME = \"Cycling Data 2023\"\n",
    "\n",
    "# 📁 1. Upload file as resource (preserves original format)\n",
    "resource = ckan.action.resource_create(\n",
    "    package_id=dataset[\"id\"],\n",
    "    name=RESOURCE_NAME,\n",
    "    format=Path(FILE_PATH).suffix[1:].upper(),  # auto-detect format\n",
    "    upload=open(FILE_PATH, \"rb\")\n",
    ")\n",
    "print(f\"✅ File uploaded as resource: {resource['id']}\")\n",
    "\n",
    "# 🧠 2. Upload structured data to DataStore\n",
    "# Load into DataFrame (already done in your notebook as `df`)\n",
    "\n",
    "# Create CKAN field definitions from df types\n",
    "fields = []\n",
    "for col in df.columns:\n",
    "    dtype = df[col].dtype\n",
    "    if pd.api.types.is_numeric_dtype(dtype):\n",
    "        ftype = \"numeric\"\n",
    "    elif pd.api.types.is_datetime64_any_dtype(dtype):\n",
    "        ftype = \"timestamp\"\n",
    "    else:\n",
    "        ftype = \"text\"\n",
    "    fields.append({\"id\": col, \"type\": ftype})\n",
    "\n",
    "# Convert to CKAN records format\n",
    "records = df.to_dict(orient='records')\n",
    "\n",
    "# Upload to DataStore (overwrites if already exists)\n",
    "ckan.action.datastore_create(\n",
    "    resource_id=resource[\"id\"],\n",
    "    fields=fields,\n",
    "    records=records,\n",
    "    force=True\n",
    ")\n",
    "print(f\"✅ Data uploaded to DataStore: {len(records)} records\")"
   ]
  }
 ],
 "metadata": {
  "kernelspec": {
   "display_name": "reallocate-ai",
   "language": "python",
   "name": "python3"
  },
  "language_info": {
   "codemirror_mode": {
    "name": "ipython",
    "version": 3
   },
   "file_extension": ".py",
   "mimetype": "text/x-python",
   "name": "python",
   "nbconvert_exporter": "python",
   "pygments_lexer": "ipython3",
   "version": "3.11.11"
  }
 },
 "nbformat": 4,
 "nbformat_minor": 5
}
