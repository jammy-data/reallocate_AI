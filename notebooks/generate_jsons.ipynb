{
 "cells": [
  {
   "cell_type": "markdown",
   "id": "2b745644",
   "metadata": {},
   "source": [
    "# Config"
   ]
  },
  {
   "cell_type": "code",
   "execution_count": 1,
   "id": "7e21f851",
   "metadata": {},
   "outputs": [],
   "source": [
    "import pandas as pd\n",
    "import json\n",
    "import os"
   ]
  },
  {
   "cell_type": "code",
   "execution_count": 10,
   "id": "234ab50c",
   "metadata": {},
   "outputs": [],
   "source": [
    "# Example usage\n",
    "path = \"../data/pilot_static_data.csv\"  # Replace with the actual path\n",
    "kpi_path = \"../data/cities_kpi.csv\"  # Replace with the actual path\n",
    "\n",
    "output_general = \"../config/pilots.json\"\n",
    "output_cities = \"../data/pilots/\"\n",
    "output_kpis = \"../config/kpi.json\""
   ]
  },
  {
   "cell_type": "markdown",
   "id": "b7cfffa3",
   "metadata": {},
   "source": [
    "# Read data"
   ]
  },
  {
   "cell_type": "code",
   "execution_count": null,
   "id": "1a1ef366",
   "metadata": {},
   "outputs": [
    {
     "data": {
      "text/html": [
       "<div>\n",
       "<style scoped>\n",
       "    .dataframe tbody tr th:only-of-type {\n",
       "        vertical-align: middle;\n",
       "    }\n",
       "\n",
       "    .dataframe tbody tr th {\n",
       "        vertical-align: top;\n",
       "    }\n",
       "\n",
       "    .dataframe thead th {\n",
       "        text-align: right;\n",
       "    }\n",
       "</style>\n",
       "<table border=\"1\" class=\"dataframe\">\n",
       "  <thead>\n",
       "    <tr style=\"text-align: right;\">\n",
       "      <th></th>\n",
       "      <th>City</th>\n",
       "      <th>Pilot</th>\n",
       "      <th>Thematic Clasters</th>\n",
       "      <th>Impact Areas</th>\n",
       "      <th>Start Date Q</th>\n",
       "      <th>End Date Q</th>\n",
       "      <th>Start Date</th>\n",
       "      <th>End Date</th>\n",
       "      <th>Duration (Months)</th>\n",
       "      <th>Description</th>\n",
       "      <th>...</th>\n",
       "      <th>KPIs</th>\n",
       "      <th>Link to Dashboard</th>\n",
       "      <th>UMI Categories</th>\n",
       "      <th>Sources</th>\n",
       "      <th>Tips for replication</th>\n",
       "      <th>Pictures</th>\n",
       "      <th>lat</th>\n",
       "      <th>lon</th>\n",
       "      <th>name</th>\n",
       "      <th>location</th>\n",
       "    </tr>\n",
       "  </thead>\n",
       "  <tbody>\n",
       "    <tr>\n",
       "      <th>0</th>\n",
       "      <td>Gothenburg</td>\n",
       "      <td>Safe System Approach for Children’s Active Tra...</td>\n",
       "      <td>Safe &amp; Sustainable Schools</td>\n",
       "      <td>Road Safety, Transformative Governance, Inclus...</td>\n",
       "      <td>Q2 2023</td>\n",
       "      <td>Q4 2025</td>\n",
       "      <td>04/01/2023</td>\n",
       "      <td>31/12/2025</td>\n",
       "      <td>35</td>\n",
       "      <td>In the neighbourhood of Bergum Gunnilse key mo...</td>\n",
       "      <td>...</td>\n",
       "      <td>1, 2, 9</td>\n",
       "      <td>NaN</td>\n",
       "      <td>Modal Share</td>\n",
       "      <td>NaN</td>\n",
       "      <td>NaN</td>\n",
       "      <td>https://reallocatemobility.eu/fileadmin/user_u...</td>\n",
       "      <td>57,70887</td>\n",
       "      <td>11,97456</td>\n",
       "      <td>Gothenburg (pilot 1)</td>\n",
       "      <td>Bergum Gunnilse</td>\n",
       "    </tr>\n",
       "  </tbody>\n",
       "</table>\n",
       "<p>1 rows × 21 columns</p>\n",
       "</div>"
      ],
      "text/plain": [
       "         City                                              Pilot  \\\n",
       "0  Gothenburg  Safe System Approach for Children’s Active Tra...   \n",
       "\n",
       "            Thematic Clasters  \\\n",
       "0  Safe & Sustainable Schools   \n",
       "\n",
       "                                        Impact Areas Start Date Q End Date Q  \\\n",
       "0  Road Safety, Transformative Governance, Inclus...      Q2 2023    Q4 2025   \n",
       "\n",
       "   Start Date    End Date  Duration (Months)  \\\n",
       "0  04/01/2023  31/12/2025                 35   \n",
       "\n",
       "                                         Description  ...     KPIs  \\\n",
       "0  In the neighbourhood of Bergum Gunnilse key mo...  ...  1, 2, 9   \n",
       "\n",
       "  Link to Dashboard  UMI Categories Sources  Tips for replication  \\\n",
       "0               NaN     Modal Share     NaN                   NaN   \n",
       "\n",
       "                                            Pictures       lat       lon  \\\n",
       "0  https://reallocatemobility.eu/fileadmin/user_u...  57,70887  11,97456   \n",
       "\n",
       "                   name         location  \n",
       "0  Gothenburg (pilot 1)  Bergum Gunnilse  \n",
       "\n",
       "[1 rows x 21 columns]"
      ]
     },
     "execution_count": 26,
     "metadata": {},
     "output_type": "execute_result"
    }
   ],
   "source": [
    "df = pd.read_csv(path,sep=\"\\t\")\n",
    "df.head(1)"
   ]
  },
  {
   "cell_type": "code",
   "execution_count": 9,
   "id": "04deb3c9",
   "metadata": {},
   "outputs": [
    {
     "name": "stdout",
     "output_type": "stream",
     "text": [
      "Index(['KPI', 'Name', 'Unnamed: 2', 'Category', 'Indicator', 'Unit'], dtype='object')\n",
      "Index(['KPI', 'Name', 'Category', 'Indicator', 'Unit'], dtype='object')\n"
     ]
    },
    {
     "data": {
      "text/html": [
       "<div>\n",
       "<style scoped>\n",
       "    .dataframe tbody tr th:only-of-type {\n",
       "        vertical-align: middle;\n",
       "    }\n",
       "\n",
       "    .dataframe tbody tr th {\n",
       "        vertical-align: top;\n",
       "    }\n",
       "\n",
       "    .dataframe thead th {\n",
       "        text-align: right;\n",
       "    }\n",
       "</style>\n",
       "<table border=\"1\" class=\"dataframe\">\n",
       "  <thead>\n",
       "    <tr style=\"text-align: right;\">\n",
       "      <th></th>\n",
       "      <th>KPI</th>\n",
       "      <th>Name</th>\n",
       "      <th>Category</th>\n",
       "      <th>Indicator</th>\n",
       "      <th>Unit</th>\n",
       "    </tr>\n",
       "  </thead>\n",
       "  <tbody>\n",
       "    <tr>\n",
       "      <th>0</th>\n",
       "      <td>1</td>\n",
       "      <td>Modal Share</td>\n",
       "      <td>Modal Share</td>\n",
       "      <td>Measure the percentage of commuters using acti...</td>\n",
       "      <td>Percentage (%)</td>\n",
       "    </tr>\n",
       "    <tr>\n",
       "      <th>1</th>\n",
       "      <td>2</td>\n",
       "      <td>Number of Participants in Co-Creation Workshops</td>\n",
       "      <td>Engagement</td>\n",
       "      <td>Count the total number of individuals who acti...</td>\n",
       "      <td>Count</td>\n",
       "    </tr>\n",
       "    <tr>\n",
       "      <th>2</th>\n",
       "      <td>3</td>\n",
       "      <td>Conflicts Removed or Mitigated</td>\n",
       "      <td>Accidents &amp; Injuries</td>\n",
       "      <td>Number of conflicts that have been removed or ...</td>\n",
       "      <td>Count</td>\n",
       "    </tr>\n",
       "    <tr>\n",
       "      <th>3</th>\n",
       "      <td>4</td>\n",
       "      <td>Service coverage of Demand-Responsive Transpor...</td>\n",
       "      <td>Access to mobility services</td>\n",
       "      <td>NaN</td>\n",
       "      <td>NaN</td>\n",
       "    </tr>\n",
       "    <tr>\n",
       "      <th>4</th>\n",
       "      <td>5</td>\n",
       "      <td>Replicability of Bicycle Policies</td>\n",
       "      <td>Access to mobility services</td>\n",
       "      <td>The percentage of other road sections or regio...</td>\n",
       "      <td>Percentage (%)</td>\n",
       "    </tr>\n",
       "  </tbody>\n",
       "</table>\n",
       "</div>"
      ],
      "text/plain": [
       "   KPI                                               Name  \\\n",
       "0    1                                        Modal Share   \n",
       "1    2    Number of Participants in Co-Creation Workshops   \n",
       "2    3                     Conflicts Removed or Mitigated   \n",
       "3    4  Service coverage of Demand-Responsive Transpor...   \n",
       "4    5                  Replicability of Bicycle Policies   \n",
       "\n",
       "                      Category  \\\n",
       "0                  Modal Share   \n",
       "1                   Engagement   \n",
       "2         Accidents & Injuries   \n",
       "3  Access to mobility services   \n",
       "4  Access to mobility services   \n",
       "\n",
       "                                           Indicator            Unit  \n",
       "0  Measure the percentage of commuters using acti...  Percentage (%)  \n",
       "1  Count the total number of individuals who acti...           Count  \n",
       "2  Number of conflicts that have been removed or ...           Count  \n",
       "3                                                NaN             NaN  \n",
       "4  The percentage of other road sections or regio...  Percentage (%)  "
      ]
     },
     "execution_count": 9,
     "metadata": {},
     "output_type": "execute_result"
    }
   ],
   "source": [
    "kpi = pd.read_csv(kpi_path,sep=\";\")\n",
    "print(kpi.columns)\n",
    "kpi = kpi[['KPI', 'Name', 'Category', 'Indicator', 'Unit']]\n",
    "print(kpi.columns)\n",
    "\n",
    "kpi.head()"
   ]
  },
  {
   "cell_type": "markdown",
   "id": "45bbbc98",
   "metadata": {},
   "source": [
    "# General JSON"
   ]
  },
  {
   "cell_type": "code",
   "execution_count": 27,
   "id": "a60d1d36",
   "metadata": {},
   "outputs": [],
   "source": [
    "def extract_all_pilots(df, output_json_path):\n",
    "    pilots = []\n",
    "    for _, row in df.iterrows():\n",
    "        pilot_id = row['name'].lower().replace(\" \", \"_\").replace(\"(\", \"\").replace(\")\", \"\")\n",
    "        start_date = row[\"Start Date\"]\n",
    "        if isinstance(start_date, pd.Timestamp):\n",
    "            start_date = start_date.strftime(\"%Y-%m-%d\")\n",
    "\n",
    "        # Handle end_date override (if not in standard format)\n",
    "        end_date = row[\"End Date\"]\n",
    "        if isinstance(end_date, pd.Timestamp):\n",
    "            end_date = end_date.strftime(\"%Y-%m-%d\")\n",
    "\n",
    "        pilot_data = {\n",
    "            \"id\": pilot_id,\n",
    "            \"city\": row[\"City\"],\n",
    "            \"title\": row[\"Pilot\"],\n",
    "            \"name\": row[\"name\"],\n",
    "            \"start_date\": start_date,\n",
    "            \"end_date\": end_date,\n",
    "            \"image\": row[\"Pictures\"],\n",
    "            \"lat\": row[\"lat\"],\n",
    "            \"lon\": row[\"lon\"],\n",
    "            \"thematic\": row[\"Thematic Clasters\"],\n",
    "            \"impact_areas\": row[\"Impact Areas\"],\n",
    "            \"kpis\": row[\"KPIs\"],\n",
    "            \"description\": row[\"Description\"]\n",
    "        }\n",
    "\n",
    "        pilots.append(pilot_data)\n",
    "\n",
    "    # Save to JSON\n",
    "    with open(output_json_path, \"w\", encoding=\"utf-8\") as f:\n",
    "        json.dump(pilots, f, ensure_ascii=False, indent=2)\n",
    "\n",
    "    print(f\"Saved {len(pilots)} pilots to {output_json_path}\")\n"
   ]
  },
  {
   "cell_type": "code",
   "execution_count": 28,
   "id": "16b83665",
   "metadata": {},
   "outputs": [
    {
     "name": "stdout",
     "output_type": "stream",
     "text": [
      "Saved 15 pilots to ../config/pilots.json\n"
     ]
    }
   ],
   "source": [
    "extract_all_pilots(df, output_general)"
   ]
  },
  {
   "cell_type": "markdown",
   "id": "07a092ee",
   "metadata": {},
   "source": [
    "# City Json"
   ]
  },
  {
   "cell_type": "code",
   "execution_count": 29,
   "id": "2fcd665a",
   "metadata": {},
   "outputs": [],
   "source": [
    "def save_pilots_as_individual_jsons(df, output_folder):\n",
    "    os.makedirs(output_folder, exist_ok=True)\n",
    "\n",
    "    for _, row in df.iterrows():\n",
    "        # Generate pilot ID from name\n",
    "        pilot_id = row[\"name\"].lower().replace(\" \", \"_\").replace(\"(\", \"\").replace(\")\", \"\")\n",
    "\n",
    "        # Parse KPIs into a list\n",
    "        kpis = [k.strip() for k in str(row[\"KPIs\"]).split(\",\") if k.strip().isdigit()]\n",
    "\n",
    "        # Construct JSON structure\n",
    "        pilot_json = {\n",
    "            \"id\": pilot_id,\n",
    "            \"city\": row[\"City\"],\n",
    "            \"title\": row[\"Pilot\"],\n",
    "            \"image\": row[\"Pictures\"],\n",
    "            \"tabs\": {\n",
    "                \"Pilot Info\": {\n",
    "                    \"description\": row[\"Description\"],\n",
    "                    \"location\": row[\"location\"],\n",
    "                    \"lat\": row[\"lat\"],\n",
    "                    \"lon\": row[\"lon\"],\n",
    "                },\n",
    "                \"KPIs\": kpis,\n",
    "                \"Dashboard\": {\n",
    "                    \"title\": \"\",\n",
    "                    \"description\": \"\",\n",
    "                    \"url\": row.get(\"Link to Dashboard\", None)\n",
    "                }\n",
    "            }\n",
    "        }\n",
    "\n",
    "        # Save to file\n",
    "        filename = f\"{pilot_id}.json\"\n",
    "        filepath = os.path.join(output_folder, filename)\n",
    "        with open(filepath, \"w\", encoding=\"utf-8\") as f:\n",
    "            json.dump(pilot_json, f, ensure_ascii=False, indent=2)\n",
    "\n",
    "        print(f\"Saved: {filepath}\")"
   ]
  },
  {
   "cell_type": "code",
   "execution_count": 30,
   "id": "30ec7ded",
   "metadata": {},
   "outputs": [
    {
     "name": "stdout",
     "output_type": "stream",
     "text": [
      "Saved: ../data/pilots/gothenburg_pilot_1.json\n",
      "Saved: ../data/pilots/gothenburg_pilot_2.json\n",
      "Saved: ../data/pilots/heidelberg_pilot_1.json\n",
      "Saved: ../data/pilots/heidelberg_pilot_2.json\n",
      "Saved: ../data/pilots/barcelona_pilot_1.json\n",
      "Saved: ../data/pilots/barcelona_pilot_2.json\n",
      "Saved: ../data/pilots/budapest_pilot_1.json\n",
      "Saved: ../data/pilots/budapest_pilot_2.json\n",
      "Saved: ../data/pilots/lyon_pilot_1.json\n",
      "Saved: ../data/pilots/lyon_pilot_2.json\n",
      "Saved: ../data/pilots/bologna.json\n",
      "Saved: ../data/pilots/utrecht.json\n",
      "Saved: ../data/pilots/tampere.json\n",
      "Saved: ../data/pilots/warsaw.json\n",
      "Saved: ../data/pilots/zagreb.json\n"
     ]
    }
   ],
   "source": [
    "save_pilots_as_individual_jsons(df, output_cities)"
   ]
  },
  {
   "cell_type": "markdown",
   "id": "233d68b4",
   "metadata": {},
   "source": [
    "## KPI Jsons"
   ]
  },
  {
   "cell_type": "code",
   "execution_count": 11,
   "id": "ff2e42b7",
   "metadata": {},
   "outputs": [],
   "source": [
    "def extract_all_kpis(df, output_json_path):\n",
    "    kpis = []\n",
    "    \n",
    "    for _, row in df.iterrows():\n",
    "        kpi_data = {\n",
    "            \"id\": int(row[\"KPI\"]),\n",
    "            \"name\": row[\"Name\"],\n",
    "            \"category\": row[\"Category\"],\n",
    "            \"indicator\": row[\"Indicator\"] if pd.notna(row[\"Indicator\"]) else \"\",\n",
    "            \"unit\": row[\"Unit\"] if pd.notna(row[\"Unit\"]) else \"\"\n",
    "        }\n",
    "        kpis.append(kpi_data)\n",
    "\n",
    "    # Save to JSON\n",
    "    with open(output_json_path, \"w\", encoding=\"utf-8\") as f:\n",
    "        json.dump(kpis, f, ensure_ascii=False, indent=2)\n",
    "\n",
    "    print(f\"Saved {len(kpis)} KPIs to {output_json_path}\")\n"
   ]
  },
  {
   "cell_type": "code",
   "execution_count": 12,
   "id": "0dc43739",
   "metadata": {},
   "outputs": [
    {
     "name": "stdout",
     "output_type": "stream",
     "text": [
      "Saved 16 KPIs to ../config/kpi.json\n"
     ]
    }
   ],
   "source": [
    "extract_all_kpis(kpi,output_kpis)"
   ]
  }
 ],
 "metadata": {
  "kernelspec": {
   "display_name": "reallocate-ai",
   "language": "python",
   "name": "python3"
  },
  "language_info": {
   "codemirror_mode": {
    "name": "ipython",
    "version": 3
   },
   "file_extension": ".py",
   "mimetype": "text/x-python",
   "name": "python",
   "nbconvert_exporter": "python",
   "pygments_lexer": "ipython3",
   "version": "3.11.11"
  }
 },
 "nbformat": 4,
 "nbformat_minor": 5
}
