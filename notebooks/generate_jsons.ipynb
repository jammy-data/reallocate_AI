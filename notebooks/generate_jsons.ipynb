{
 "cells": [
  {
   "cell_type": "markdown",
   "id": "2b745644",
   "metadata": {},
   "source": [
    "# Config"
   ]
  },
  {
   "cell_type": "code",
   "execution_count": 35,
   "id": "7e21f851",
   "metadata": {},
   "outputs": [],
   "source": [
    "import pandas as pd\n",
    "import geopandas as gpd\n",
    "import json\n",
    "import os\n",
    "from shapely.geometry import Point, GeometryCollection, MultiPolygon"
   ]
  },
  {
   "cell_type": "code",
   "execution_count": 3,
   "id": "234ab50c",
   "metadata": {},
   "outputs": [],
   "source": [
    "# Example usage\n",
    "path = \"../data/pilot_static_data.csv\"  # Replace with the actual path\n",
    "kpi_path = \"../data/cities_kpi.csv\"  # Replace with the actual path\n",
    "geojson_path = \"../data/reallocate_all_pilots.geojson\"  # Replace with the actual path\n",
    "output_general = \"../config/pilots.json\"\n",
    "output_cities = \"../data/pilots/\"\n",
    "output_kpis = \"../config/kpi.json\""
   ]
  },
  {
   "cell_type": "markdown",
   "id": "b7cfffa3",
   "metadata": {},
   "source": [
    "# Read data"
   ]
  },
  {
   "cell_type": "code",
   "execution_count": 5,
   "id": "1a1ef366",
   "metadata": {},
   "outputs": [
    {
     "data": {
      "text/html": [
       "<div>\n",
       "<style scoped>\n",
       "    .dataframe tbody tr th:only-of-type {\n",
       "        vertical-align: middle;\n",
       "    }\n",
       "\n",
       "    .dataframe tbody tr th {\n",
       "        vertical-align: top;\n",
       "    }\n",
       "\n",
       "    .dataframe thead th {\n",
       "        text-align: right;\n",
       "    }\n",
       "</style>\n",
       "<table border=\"1\" class=\"dataframe\">\n",
       "  <thead>\n",
       "    <tr style=\"text-align: right;\">\n",
       "      <th></th>\n",
       "      <th>City</th>\n",
       "      <th>Pilot</th>\n",
       "      <th>Thematic Clasters</th>\n",
       "      <th>Impact Areas</th>\n",
       "      <th>Start Date Q</th>\n",
       "      <th>End Date Q</th>\n",
       "      <th>Start Date</th>\n",
       "      <th>End Date</th>\n",
       "      <th>Duration (Months)</th>\n",
       "      <th>Description</th>\n",
       "      <th>...</th>\n",
       "      <th>KPIs</th>\n",
       "      <th>Link to Dashboard</th>\n",
       "      <th>UMI Categories</th>\n",
       "      <th>Sources</th>\n",
       "      <th>Tips for replication</th>\n",
       "      <th>Pictures</th>\n",
       "      <th>lat</th>\n",
       "      <th>lon</th>\n",
       "      <th>name</th>\n",
       "      <th>location</th>\n",
       "    </tr>\n",
       "  </thead>\n",
       "  <tbody>\n",
       "    <tr>\n",
       "      <th>0</th>\n",
       "      <td>Gothenburg</td>\n",
       "      <td>Safe System Approach for Children’s Active Tra...</td>\n",
       "      <td>Safe &amp; Sustainable Schools</td>\n",
       "      <td>Road Safety, Transformative Governance, Inclus...</td>\n",
       "      <td>Q2 2023</td>\n",
       "      <td>Q4 2025</td>\n",
       "      <td>04/01/2023</td>\n",
       "      <td>31/12/2025</td>\n",
       "      <td>35</td>\n",
       "      <td>In the neighbourhood of Bergum Gunnilse key mo...</td>\n",
       "      <td>...</td>\n",
       "      <td>1, 2, 9</td>\n",
       "      <td>NaN</td>\n",
       "      <td>Modal Share</td>\n",
       "      <td>NaN</td>\n",
       "      <td>NaN</td>\n",
       "      <td>https://reallocatemobility.eu/fileadmin/user_u...</td>\n",
       "      <td>57,70887</td>\n",
       "      <td>11,97456</td>\n",
       "      <td>Gothenburg (pilot 1)</td>\n",
       "      <td>Bergum Gunnilse</td>\n",
       "    </tr>\n",
       "  </tbody>\n",
       "</table>\n",
       "<p>1 rows × 21 columns</p>\n",
       "</div>"
      ],
      "text/plain": [
       "         City                                              Pilot  \\\n",
       "0  Gothenburg  Safe System Approach for Children’s Active Tra...   \n",
       "\n",
       "            Thematic Clasters  \\\n",
       "0  Safe & Sustainable Schools   \n",
       "\n",
       "                                        Impact Areas Start Date Q End Date Q  \\\n",
       "0  Road Safety, Transformative Governance, Inclus...      Q2 2023    Q4 2025   \n",
       "\n",
       "   Start Date    End Date  Duration (Months)  \\\n",
       "0  04/01/2023  31/12/2025                 35   \n",
       "\n",
       "                                         Description  ...     KPIs  \\\n",
       "0  In the neighbourhood of Bergum Gunnilse key mo...  ...  1, 2, 9   \n",
       "\n",
       "  Link to Dashboard  UMI Categories Sources  Tips for replication  \\\n",
       "0               NaN     Modal Share     NaN                   NaN   \n",
       "\n",
       "                                            Pictures       lat       lon  \\\n",
       "0  https://reallocatemobility.eu/fileadmin/user_u...  57,70887  11,97456   \n",
       "\n",
       "                   name         location  \n",
       "0  Gothenburg (pilot 1)  Bergum Gunnilse  \n",
       "\n",
       "[1 rows x 21 columns]"
      ]
     },
     "execution_count": 5,
     "metadata": {},
     "output_type": "execute_result"
    }
   ],
   "source": [
    "df = pd.read_csv(path,sep=\"\\t\")\n",
    "df.head(1)"
   ]
  },
  {
   "cell_type": "code",
   "execution_count": null,
   "id": "04deb3c9",
   "metadata": {},
   "outputs": [],
   "source": [
    "kpi = pd.read_csv(kpi_path,sep=\";\")\n",
    "print(kpi.columns)\n",
    "kpi = kpi[['KPI', 'Name', 'Category', 'Indicator', 'Unit']]\n",
    "print(kpi.columns)\n",
    "\n",
    "kpi.head()"
   ]
  },
  {
   "cell_type": "code",
   "execution_count": 33,
   "id": "e68031fa",
   "metadata": {},
   "outputs": [
    {
     "name": "stdout",
     "output_type": "stream",
     "text": [
      "Index(['id', 'pilot', 'city', 'geometry', 'name'], dtype='object')\n",
      "(13, 5)\n"
     ]
    },
    {
     "data": {
      "text/html": [
       "<div>\n",
       "<style scoped>\n",
       "    .dataframe tbody tr th:only-of-type {\n",
       "        vertical-align: middle;\n",
       "    }\n",
       "\n",
       "    .dataframe tbody tr th {\n",
       "        vertical-align: top;\n",
       "    }\n",
       "\n",
       "    .dataframe thead th {\n",
       "        text-align: right;\n",
       "    }\n",
       "</style>\n",
       "<table border=\"1\" class=\"dataframe\">\n",
       "  <thead>\n",
       "    <tr style=\"text-align: right;\">\n",
       "      <th></th>\n",
       "      <th>id</th>\n",
       "      <th>pilot</th>\n",
       "      <th>city</th>\n",
       "      <th>geometry</th>\n",
       "      <th>name</th>\n",
       "    </tr>\n",
       "  </thead>\n",
       "  <tbody>\n",
       "    <tr>\n",
       "      <th>0</th>\n",
       "      <td>0</td>\n",
       "      <td>Pilot1</td>\n",
       "      <td>Barcelona</td>\n",
       "      <td>POLYGON ((2.14895 41.37918, 2.14969 41.37854, ...</td>\n",
       "      <td>Barcelona(pilot1)</td>\n",
       "    </tr>\n",
       "  </tbody>\n",
       "</table>\n",
       "</div>"
      ],
      "text/plain": [
       "  id   pilot       city                                           geometry  \\\n",
       "0  0  Pilot1  Barcelona  POLYGON ((2.14895 41.37918, 2.14969 41.37854, ...   \n",
       "\n",
       "                name  \n",
       "0  Barcelona(pilot1)  "
      ]
     },
     "execution_count": 33,
     "metadata": {},
     "output_type": "execute_result"
    }
   ],
   "source": [
    "geojson = gpd.read_file(geojson_path)\n",
    "geojson[\"name\"] = geojson[\"city\"] + \"(\" + geojson[\"pilot\"].str.lower() + \")\"\n",
    "print(geojson.columns)\n",
    "print(geojson.shape)\n",
    "geojson.head(1)"
   ]
  },
  {
   "cell_type": "markdown",
   "id": "45bbbc98",
   "metadata": {},
   "source": [
    "# General JSON"
   ]
  },
  {
   "cell_type": "code",
   "execution_count": 27,
   "id": "a60d1d36",
   "metadata": {},
   "outputs": [],
   "source": [
    "def extract_all_pilots(df, output_json_path):\n",
    "    pilots = []\n",
    "    for _, row in df.iterrows():\n",
    "        pilot_id = row['name'].lower().replace(\" \", \"_\").replace(\"(\", \"\").replace(\")\", \"\")\n",
    "        start_date = row[\"Start Date\"]\n",
    "        if isinstance(start_date, pd.Timestamp):\n",
    "            start_date = start_date.strftime(\"%Y-%m-%d\")\n",
    "\n",
    "        # Handle end_date override (if not in standard format)\n",
    "        end_date = row[\"End Date\"]\n",
    "        if isinstance(end_date, pd.Timestamp):\n",
    "            end_date = end_date.strftime(\"%Y-%m-%d\")\n",
    "\n",
    "        pilot_data = {\n",
    "            \"id\": pilot_id,\n",
    "            \"city\": row[\"City\"],\n",
    "            \"title\": row[\"Pilot\"],\n",
    "            \"name\": row[\"name\"],\n",
    "            \"start_date\": start_date,\n",
    "            \"end_date\": end_date,\n",
    "            \"image\": row[\"Pictures\"],\n",
    "            \"lat\": row[\"lat\"],\n",
    "            \"lon\": row[\"lon\"],\n",
    "            \"thematic\": row[\"Thematic Clasters\"],\n",
    "            \"impact_areas\": row[\"Impact Areas\"],\n",
    "            \"kpis\": row[\"KPIs\"],\n",
    "            \"description\": row[\"Description\"]\n",
    "        }\n",
    "\n",
    "        pilots.append(pilot_data)\n",
    "\n",
    "    # Save to JSON\n",
    "    with open(output_json_path, \"w\", encoding=\"utf-8\") as f:\n",
    "        json.dump(pilots, f, ensure_ascii=False, indent=2)\n",
    "\n",
    "    print(f\"Saved {len(pilots)} pilots to {output_json_path}\")\n"
   ]
  },
  {
   "cell_type": "code",
   "execution_count": 28,
   "id": "16b83665",
   "metadata": {},
   "outputs": [
    {
     "name": "stdout",
     "output_type": "stream",
     "text": [
      "Saved 15 pilots to ../config/pilots.json\n"
     ]
    }
   ],
   "source": [
    "extract_all_pilots(df, output_general)"
   ]
  },
  {
   "cell_type": "markdown",
   "id": "07a092ee",
   "metadata": {},
   "source": [
    "# City Json"
   ]
  },
  {
   "cell_type": "code",
   "execution_count": 36,
   "id": "2fcd665a",
   "metadata": {},
   "outputs": [],
   "source": [
    "\n",
    "\n",
    "\n",
    "def save_pilots_as_individual_jsons(df, geojson, output_folder):\n",
    "    os.makedirs(output_folder, exist_ok=True)\n",
    "\n",
    "    for _, row in df.iterrows():\n",
    "        pilot_id = row[\"name\"].lower().replace(\" \", \"_\").replace(\"(\", \"\").replace(\")\", \"\")\n",
    "\n",
    "        try:\n",
    "            lat = float(str(row[\"lat\"]).replace(\",\", \".\"))\n",
    "            lon = float(str(row[\"lon\"]).replace(\",\", \".\"))\n",
    "        except ValueError:\n",
    "            print(f\"Invalid lat/lon for pilot {row['name']}, skipping.\")\n",
    "            continue\n",
    "        # Try to get geometry from geojson\n",
    "        name = row[\"name\"].replace(\" \", \"\")\n",
    "        matching = geojson[geojson[\"name\"] == name]\n",
    "        geometries = matching.geometry.tolist()\n",
    "\n",
    "        # If no geometries are found or they are all None, fall back to Point\n",
    "        if not geometries or all(g is None for g in geometries):\n",
    "            geometry = Point(lon, lat)\n",
    "        else:\n",
    "            # Combine geometries if more than one\n",
    "            valid_geometries = [g for g in geometries if g is not None]\n",
    "            if len(valid_geometries) == 1:\n",
    "                geometry = valid_geometries[0]\n",
    "            else:\n",
    "                # Union or group into GeometryCollection (based on type)\n",
    "                if all(g.geom_type == \"Polygon\" for g in valid_geometries):\n",
    "                    geometry = MultiPolygon(valid_geometries)\n",
    "                else:\n",
    "                    geometry = GeometryCollection(valid_geometries)\n",
    "\n",
    "        # Parse KPIs\n",
    "        kpis = [k.strip() for k in str(row[\"KPIs\"]).split(\",\") if k.strip().isdigit()]\n",
    "\n",
    "        pilot_json = {\n",
    "            \"id\": pilot_id,\n",
    "            \"city\": row[\"City\"],\n",
    "            \"title\": row[\"Pilot\"],\n",
    "            \"image\": row[\"Pictures\"],\n",
    "            \"tabs\": {\n",
    "                \"Pilot Info\": {\n",
    "                    \"description\": row[\"Description\"],\n",
    "                    \"location\": row[\"location\"],\n",
    "                    \"lat\": lat,\n",
    "                    \"lon\": lon,\n",
    "                    \"geometry\": geometry.__geo_interface__,  # export geometry as GeoJSON-compatible\n",
    "\n",
    "                },\n",
    "                \"KPIs\": kpis,\n",
    "                \"Dashboard\": {\n",
    "                    \"title\": \"\",\n",
    "                    \"description\": \"\",\n",
    "                    \"url\": row.get(\"Link to Dashboard\", None)\n",
    "                }\n",
    "            }\n",
    "        }\n",
    "\n",
    "        filename = f\"{pilot_id}.json\"\n",
    "        filepath = os.path.join(output_folder, filename)\n",
    "        with open(filepath, \"w\", encoding=\"utf-8\") as f:\n",
    "            json.dump(pilot_json, f, ensure_ascii=False, indent=2)\n",
    "\n",
    "        print(f\"Saved: {filepath}\")\n"
   ]
  },
  {
   "cell_type": "code",
   "execution_count": 37,
   "id": "30ec7ded",
   "metadata": {},
   "outputs": [
    {
     "name": "stdout",
     "output_type": "stream",
     "text": [
      "Saved: ../data/pilots/gothenburg_pilot_1.json\n",
      "Saved: ../data/pilots/gothenburg_pilot_2.json\n",
      "Saved: ../data/pilots/heidelberg_pilot_1.json\n",
      "Saved: ../data/pilots/heidelberg_pilot_2.json\n",
      "Saved: ../data/pilots/barcelona_pilot_1.json\n",
      "Saved: ../data/pilots/barcelona_pilot_2.json\n",
      "Saved: ../data/pilots/budapest_pilot_1.json\n",
      "Saved: ../data/pilots/budapest_pilot_2.json\n",
      "Saved: ../data/pilots/lyon_pilot_1.json\n",
      "Saved: ../data/pilots/lyon_pilot_2.json\n",
      "Saved: ../data/pilots/bologna.json\n",
      "Saved: ../data/pilots/utrecht.json\n",
      "Saved: ../data/pilots/tampere.json\n",
      "Saved: ../data/pilots/warsaw.json\n",
      "Saved: ../data/pilots/zagreb.json\n"
     ]
    }
   ],
   "source": [
    "save_pilots_as_individual_jsons(df,geojson, output_cities)"
   ]
  },
  {
   "cell_type": "markdown",
   "id": "233d68b4",
   "metadata": {},
   "source": [
    "## KPI Jsons"
   ]
  },
  {
   "cell_type": "code",
   "execution_count": 11,
   "id": "ff2e42b7",
   "metadata": {},
   "outputs": [],
   "source": [
    "def extract_all_kpis(df, output_json_path):\n",
    "    kpis = []\n",
    "    \n",
    "    for _, row in df.iterrows():\n",
    "        kpi_data = {\n",
    "            \"id\": int(row[\"KPI\"]),\n",
    "            \"name\": row[\"Name\"],\n",
    "            \"category\": row[\"Category\"],\n",
    "            \"indicator\": row[\"Indicator\"] if pd.notna(row[\"Indicator\"]) else \"\",\n",
    "            \"unit\": row[\"Unit\"] if pd.notna(row[\"Unit\"]) else \"\"\n",
    "        }\n",
    "        kpis.append(kpi_data)\n",
    "\n",
    "    # Save to JSON\n",
    "    with open(output_json_path, \"w\", encoding=\"utf-8\") as f:\n",
    "        json.dump(kpis, f, ensure_ascii=False, indent=2)\n",
    "\n",
    "    print(f\"Saved {len(kpis)} KPIs to {output_json_path}\")\n"
   ]
  },
  {
   "cell_type": "code",
   "execution_count": 12,
   "id": "0dc43739",
   "metadata": {},
   "outputs": [
    {
     "name": "stdout",
     "output_type": "stream",
     "text": [
      "Saved 16 KPIs to ../config/kpi.json\n"
     ]
    }
   ],
   "source": [
    "extract_all_kpis(kpi,output_kpis)"
   ]
  }
 ],
 "metadata": {
  "kernelspec": {
   "display_name": "reallocate-ai",
   "language": "python",
   "name": "python3"
  },
  "language_info": {
   "codemirror_mode": {
    "name": "ipython",
    "version": 3
   },
   "file_extension": ".py",
   "mimetype": "text/x-python",
   "name": "python",
   "nbconvert_exporter": "python",
   "pygments_lexer": "ipython3",
   "version": "3.11.11"
  }
 },
 "nbformat": 4,
 "nbformat_minor": 5
}
