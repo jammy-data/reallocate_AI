{
 "cells": [
  {
   "cell_type": "markdown",
   "id": "98289df1",
   "metadata": {},
   "source": [
    "# Import a dataset to REALLOCATE CKAN"
   ]
  },
  {
   "cell_type": "code",
   "execution_count": 7,
   "id": "8decc089",
   "metadata": {},
   "outputs": [],
   "source": [
    "from ckanapi import RemoteCKAN\n",
    "from dotenv import load_dotenv\n",
    "import os\n",
    "import pandas as pd\n",
    "from pathlib import Path\n",
    "import requests\n",
    "import io"
   ]
  },
  {
   "cell_type": "code",
   "execution_count": 8,
   "id": "fc97a2bf",
   "metadata": {},
   "outputs": [],
   "source": [
    "# ⚙️ Step 2: Set up connection and metadata\n",
    "DATASET_NAME = \"streets_accessibility\"\n",
    "\n",
    "\n",
    "CKAN_URL = \"https://reallocate-ckan.iti.gr\"\n",
    "API_KEY = os.getenv(\"REALLOCATE_KEY\")\n",
    "ckan = RemoteCKAN(CKAN_URL, apikey=API_KEY)\n",
    "ORG_INFO = ckan.action.organization_show(id=\"bsc\")\n",
    "\n",
    "# Get dataset metadata\n",
    "dataset = ckan.action.package_show(id=DATASET_NAME)"
   ]
  },
  {
   "cell_type": "markdown",
   "id": "3e46754c",
   "metadata": {},
   "source": [
    "## Load data"
   ]
  },
  {
   "cell_type": "code",
   "execution_count": 9,
   "id": "e0730da4",
   "metadata": {},
   "outputs": [
    {
     "name": "stdout",
     "output_type": "stream",
     "text": [
      "✅ Found CSV: True\n",
      "✅ Found Parquet: True\n"
     ]
    }
   ],
   "source": [
    "# 🔍 3. Locate CSV and Parquet file resource URLs\n",
    "\n",
    "csv_url = None\n",
    "parquet_url = None\n",
    "\n",
    "for res in dataset[\"resources\"]:\n",
    "    fmt = res[\"format\"].lower()\n",
    "    if fmt == \"csv\" and not csv_url:\n",
    "        csv_url = res[\"url\"]\n",
    "    elif fmt == \"parquet\" and not parquet_url:\n",
    "        parquet_url = res[\"url\"]\n",
    "\n",
    "print(\"✅ Found CSV:\", bool(csv_url))\n",
    "print(\"✅ Found Parquet:\", bool(parquet_url))\n"
   ]
  },
  {
   "cell_type": "code",
   "execution_count": 9,
   "id": "0932d83c",
   "metadata": {},
   "outputs": [
    {
     "name": "stdout",
     "output_type": "stream",
     "text": [
      "✅ CSV loaded from private resource\n"
     ]
    },
    {
     "name": "stderr",
     "output_type": "stream",
     "text": [
      "/var/folders/v1/1n4sj6l570n0zlr6q42nxf9c0000gn/T/ipykernel_25962/2834295937.py:4: DtypeWarning: Columns (5) have mixed types. Specify dtype option on import or set low_memory=False.\n",
      "  df_csv = pd.read_csv(io.BytesIO(response.content))\n"
     ]
    },
    {
     "data": {
      "application/vnd.microsoft.datawrangler.viewer.v0+json": {
       "columns": [
        {
         "name": "index",
         "rawType": "int64",
         "type": "integer"
        },
        {
         "name": "Gis_ID",
         "rawType": "int64",
         "type": "integer"
        },
        {
         "name": "N_Gis",
         "rawType": "int64",
         "type": "integer"
        },
        {
         "name": "Gis_X",
         "rawType": "float64",
         "type": "float"
        },
        {
         "name": "Gis_Y",
         "rawType": "float64",
         "type": "float"
        },
        {
         "name": "Data d'Alta",
         "rawType": "object",
         "type": "string"
        },
        {
         "name": "Data de Baixa",
         "rawType": "object",
         "type": "unknown"
        },
        {
         "name": "Situació",
         "rawType": "object",
         "type": "string"
        },
        {
         "name": "Barri",
         "rawType": "object",
         "type": "string"
        },
        {
         "name": "Districte",
         "rawType": "object",
         "type": "string"
        },
        {
         "name": "Tipus",
         "rawType": "object",
         "type": "unknown"
        },
        {
         "name": "Quantitat",
         "rawType": "float64",
         "type": "float"
        },
        {
         "name": "Mesura",
         "rawType": "float64",
         "type": "float"
        }
       ],
       "ref": "374e57fd-4d53-4c26-b7ca-5b5797de0bbd",
       "rows": [
        [
         "0",
         "53",
         "1",
         "428568.7713",
         "4578088.7707",
         "13/4/2018 0:00:00",
         null,
         "Tram",
         "12. la Marina del Prat Vermell",
         "03. Sants-Montjuic",
         "Graons/Resalts",
         null,
         null
        ],
        [
         "1",
         "54",
         "2",
         "428561.4783",
         "4578085.1242",
         "13/4/2018 0:00:00",
         null,
         "Cruïlla",
         "12. la Marina del Prat Vermell",
         "03. Sants-Montjuic",
         null,
         null,
         null
        ],
        [
         "2",
         "55",
         "3",
         "428547.7503",
         "4578094.5622",
         "13/4/2018 0:00:00",
         null,
         "Cruïlla",
         "12. la Marina del Prat Vermell",
         "03. Sants-Montjuic",
         null,
         null,
         "400.0"
        ],
        [
         "3",
         "75",
         "4",
         "431202.6671",
         "4582812.0177",
         "16/4/2018 0:00:00",
         null,
         "Cruïlla",
         "05. el Fort Pienc",
         "02. Eixample",
         "Accessible",
         null,
         null
        ],
        [
         "4",
         "76",
         "5",
         "431179.358",
         "4582835.1838",
         "16/4/2018 0:00:00",
         null,
         "Cruïlla",
         "05. el Fort Pienc",
         "02. Eixample",
         "Accessible",
         null,
         null
        ]
       ],
       "shape": {
        "columns": 12,
        "rows": 5
       }
      },
      "text/html": [
       "<div>\n",
       "<style scoped>\n",
       "    .dataframe tbody tr th:only-of-type {\n",
       "        vertical-align: middle;\n",
       "    }\n",
       "\n",
       "    .dataframe tbody tr th {\n",
       "        vertical-align: top;\n",
       "    }\n",
       "\n",
       "    .dataframe thead th {\n",
       "        text-align: right;\n",
       "    }\n",
       "</style>\n",
       "<table border=\"1\" class=\"dataframe\">\n",
       "  <thead>\n",
       "    <tr style=\"text-align: right;\">\n",
       "      <th></th>\n",
       "      <th>Gis_ID</th>\n",
       "      <th>N_Gis</th>\n",
       "      <th>Gis_X</th>\n",
       "      <th>Gis_Y</th>\n",
       "      <th>Data d'Alta</th>\n",
       "      <th>Data de Baixa</th>\n",
       "      <th>Situació</th>\n",
       "      <th>Barri</th>\n",
       "      <th>Districte</th>\n",
       "      <th>Tipus</th>\n",
       "      <th>Quantitat</th>\n",
       "      <th>Mesura</th>\n",
       "    </tr>\n",
       "  </thead>\n",
       "  <tbody>\n",
       "    <tr>\n",
       "      <th>0</th>\n",
       "      <td>53</td>\n",
       "      <td>1</td>\n",
       "      <td>428568.7713</td>\n",
       "      <td>4.578089e+06</td>\n",
       "      <td>13/4/2018 0:00:00</td>\n",
       "      <td>NaN</td>\n",
       "      <td>Tram</td>\n",
       "      <td>12. la Marina del Prat Vermell</td>\n",
       "      <td>03. Sants-Montjuic</td>\n",
       "      <td>Graons/Resalts</td>\n",
       "      <td>NaN</td>\n",
       "      <td>NaN</td>\n",
       "    </tr>\n",
       "    <tr>\n",
       "      <th>1</th>\n",
       "      <td>54</td>\n",
       "      <td>2</td>\n",
       "      <td>428561.4783</td>\n",
       "      <td>4.578085e+06</td>\n",
       "      <td>13/4/2018 0:00:00</td>\n",
       "      <td>NaN</td>\n",
       "      <td>Cruïlla</td>\n",
       "      <td>12. la Marina del Prat Vermell</td>\n",
       "      <td>03. Sants-Montjuic</td>\n",
       "      <td>NaN</td>\n",
       "      <td>NaN</td>\n",
       "      <td>NaN</td>\n",
       "    </tr>\n",
       "    <tr>\n",
       "      <th>2</th>\n",
       "      <td>55</td>\n",
       "      <td>3</td>\n",
       "      <td>428547.7503</td>\n",
       "      <td>4.578095e+06</td>\n",
       "      <td>13/4/2018 0:00:00</td>\n",
       "      <td>NaN</td>\n",
       "      <td>Cruïlla</td>\n",
       "      <td>12. la Marina del Prat Vermell</td>\n",
       "      <td>03. Sants-Montjuic</td>\n",
       "      <td>NaN</td>\n",
       "      <td>NaN</td>\n",
       "      <td>400.0</td>\n",
       "    </tr>\n",
       "    <tr>\n",
       "      <th>3</th>\n",
       "      <td>75</td>\n",
       "      <td>4</td>\n",
       "      <td>431202.6671</td>\n",
       "      <td>4.582812e+06</td>\n",
       "      <td>16/4/2018 0:00:00</td>\n",
       "      <td>NaN</td>\n",
       "      <td>Cruïlla</td>\n",
       "      <td>05. el Fort Pienc</td>\n",
       "      <td>02. Eixample</td>\n",
       "      <td>Accessible</td>\n",
       "      <td>NaN</td>\n",
       "      <td>NaN</td>\n",
       "    </tr>\n",
       "    <tr>\n",
       "      <th>4</th>\n",
       "      <td>76</td>\n",
       "      <td>5</td>\n",
       "      <td>431179.3580</td>\n",
       "      <td>4.582835e+06</td>\n",
       "      <td>16/4/2018 0:00:00</td>\n",
       "      <td>NaN</td>\n",
       "      <td>Cruïlla</td>\n",
       "      <td>05. el Fort Pienc</td>\n",
       "      <td>02. Eixample</td>\n",
       "      <td>Accessible</td>\n",
       "      <td>NaN</td>\n",
       "      <td>NaN</td>\n",
       "    </tr>\n",
       "  </tbody>\n",
       "</table>\n",
       "</div>"
      ],
      "text/plain": [
       "   Gis_ID  N_Gis        Gis_X         Gis_Y        Data d'Alta Data de Baixa  \\\n",
       "0      53      1  428568.7713  4.578089e+06  13/4/2018 0:00:00           NaN   \n",
       "1      54      2  428561.4783  4.578085e+06  13/4/2018 0:00:00           NaN   \n",
       "2      55      3  428547.7503  4.578095e+06  13/4/2018 0:00:00           NaN   \n",
       "3      75      4  431202.6671  4.582812e+06  16/4/2018 0:00:00           NaN   \n",
       "4      76      5  431179.3580  4.582835e+06  16/4/2018 0:00:00           NaN   \n",
       "\n",
       "  Situació                           Barri           Districte  \\\n",
       "0     Tram  12. la Marina del Prat Vermell  03. Sants-Montjuic   \n",
       "1  Cruïlla  12. la Marina del Prat Vermell  03. Sants-Montjuic   \n",
       "2  Cruïlla  12. la Marina del Prat Vermell  03. Sants-Montjuic   \n",
       "3  Cruïlla               05. el Fort Pienc        02. Eixample   \n",
       "4  Cruïlla               05. el Fort Pienc        02. Eixample   \n",
       "\n",
       "            Tipus  Quantitat  Mesura  \n",
       "0  Graons/Resalts        NaN     NaN  \n",
       "1             NaN        NaN     NaN  \n",
       "2             NaN        NaN   400.0  \n",
       "3      Accessible        NaN     NaN  \n",
       "4      Accessible        NaN     NaN  "
      ]
     },
     "metadata": {},
     "output_type": "display_data"
    },
    {
     "name": "stdout",
     "output_type": "stream",
     "text": [
      "✅ CSV loaded from private resource\n"
     ]
    },
    {
     "name": "stderr",
     "output_type": "stream",
     "text": [
      "/tmp/ipykernel_8873/2834295937.py:4: DtypeWarning: Columns (5) have mixed types. Specify dtype option on import or set low_memory=False.\n",
      "  df_csv = pd.read_csv(io.BytesIO(response.content))\n"
     ]
    },
    {
     "data": {
      "text/html": [
       "<div>\n",
       "<style scoped>\n",
       "    .dataframe tbody tr th:only-of-type {\n",
       "        vertical-align: middle;\n",
       "    }\n",
       "\n",
       "    .dataframe tbody tr th {\n",
       "        vertical-align: top;\n",
       "    }\n",
       "\n",
       "    .dataframe thead th {\n",
       "        text-align: right;\n",
       "    }\n",
       "</style>\n",
       "<table border=\"1\" class=\"dataframe\">\n",
       "  <thead>\n",
       "    <tr style=\"text-align: right;\">\n",
       "      <th></th>\n",
       "      <th>Gis_ID</th>\n",
       "      <th>N_Gis</th>\n",
       "      <th>Gis_X</th>\n",
       "      <th>Gis_Y</th>\n",
       "      <th>Data d'Alta</th>\n",
       "      <th>Data de Baixa</th>\n",
       "      <th>Situació</th>\n",
       "      <th>Barri</th>\n",
       "      <th>Districte</th>\n",
       "      <th>Tipus</th>\n",
       "      <th>Quantitat</th>\n",
       "      <th>Mesura</th>\n",
       "    </tr>\n",
       "  </thead>\n",
       "  <tbody>\n",
       "    <tr>\n",
       "      <th>0</th>\n",
       "      <td>53</td>\n",
       "      <td>1</td>\n",
       "      <td>428568.7713</td>\n",
       "      <td>4.578089e+06</td>\n",
       "      <td>13/4/2018 0:00:00</td>\n",
       "      <td>NaN</td>\n",
       "      <td>Tram</td>\n",
       "      <td>12. la Marina del Prat Vermell</td>\n",
       "      <td>03. Sants-Montjuic</td>\n",
       "      <td>Graons/Resalts</td>\n",
       "      <td>NaN</td>\n",
       "      <td>NaN</td>\n",
       "    </tr>\n",
       "    <tr>\n",
       "      <th>1</th>\n",
       "      <td>54</td>\n",
       "      <td>2</td>\n",
       "      <td>428561.4783</td>\n",
       "      <td>4.578085e+06</td>\n",
       "      <td>13/4/2018 0:00:00</td>\n",
       "      <td>NaN</td>\n",
       "      <td>Cruïlla</td>\n",
       "      <td>12. la Marina del Prat Vermell</td>\n",
       "      <td>03. Sants-Montjuic</td>\n",
       "      <td>NaN</td>\n",
       "      <td>NaN</td>\n",
       "      <td>NaN</td>\n",
       "    </tr>\n",
       "    <tr>\n",
       "      <th>2</th>\n",
       "      <td>55</td>\n",
       "      <td>3</td>\n",
       "      <td>428547.7503</td>\n",
       "      <td>4.578095e+06</td>\n",
       "      <td>13/4/2018 0:00:00</td>\n",
       "      <td>NaN</td>\n",
       "      <td>Cruïlla</td>\n",
       "      <td>12. la Marina del Prat Vermell</td>\n",
       "      <td>03. Sants-Montjuic</td>\n",
       "      <td>NaN</td>\n",
       "      <td>NaN</td>\n",
       "      <td>400.0</td>\n",
       "    </tr>\n",
       "    <tr>\n",
       "      <th>3</th>\n",
       "      <td>75</td>\n",
       "      <td>4</td>\n",
       "      <td>431202.6671</td>\n",
       "      <td>4.582812e+06</td>\n",
       "      <td>16/4/2018 0:00:00</td>\n",
       "      <td>NaN</td>\n",
       "      <td>Cruïlla</td>\n",
       "      <td>05. el Fort Pienc</td>\n",
       "      <td>02. Eixample</td>\n",
       "      <td>Accessible</td>\n",
       "      <td>NaN</td>\n",
       "      <td>NaN</td>\n",
       "    </tr>\n",
       "    <tr>\n",
       "      <th>4</th>\n",
       "      <td>76</td>\n",
       "      <td>5</td>\n",
       "      <td>431179.3580</td>\n",
       "      <td>4.582835e+06</td>\n",
       "      <td>16/4/2018 0:00:00</td>\n",
       "      <td>NaN</td>\n",
       "      <td>Cruïlla</td>\n",
       "      <td>05. el Fort Pienc</td>\n",
       "      <td>02. Eixample</td>\n",
       "      <td>Accessible</td>\n",
       "      <td>NaN</td>\n",
       "      <td>NaN</td>\n",
       "    </tr>\n",
       "  </tbody>\n",
       "</table>\n",
       "</div>"
      ],
      "text/plain": [
       "   Gis_ID  N_Gis        Gis_X         Gis_Y        Data d'Alta Data de Baixa  \\\n",
       "0      53      1  428568.7713  4.578089e+06  13/4/2018 0:00:00           NaN   \n",
       "1      54      2  428561.4783  4.578085e+06  13/4/2018 0:00:00           NaN   \n",
       "2      55      3  428547.7503  4.578095e+06  13/4/2018 0:00:00           NaN   \n",
       "3      75      4  431202.6671  4.582812e+06  16/4/2018 0:00:00           NaN   \n",
       "4      76      5  431179.3580  4.582835e+06  16/4/2018 0:00:00           NaN   \n",
       "\n",
       "  Situació                           Barri           Districte  \\\n",
       "0     Tram  12. la Marina del Prat Vermell  03. Sants-Montjuic   \n",
       "1  Cruïlla  12. la Marina del Prat Vermell  03. Sants-Montjuic   \n",
       "2  Cruïlla  12. la Marina del Prat Vermell  03. Sants-Montjuic   \n",
       "3  Cruïlla               05. el Fort Pienc        02. Eixample   \n",
       "4  Cruïlla               05. el Fort Pienc        02. Eixample   \n",
       "\n",
       "            Tipus  Quantitat  Mesura  \n",
       "0  Graons/Resalts        NaN     NaN  \n",
       "1             NaN        NaN     NaN  \n",
       "2             NaN        NaN   400.0  \n",
       "3      Accessible        NaN     NaN  \n",
       "4      Accessible        NaN     NaN  "
      ]
     },
     "metadata": {},
     "output_type": "display_data"
    }
   ],
   "source": [
    "if csv_url:\n",
    "    response = requests.get(csv_url, headers={\"Authorization\": API_KEY})\n",
    "    if response.status_code == 200:\n",
    "        df_csv = pd.read_csv(io.BytesIO(response.content))\n",
    "        print(\"✅ CSV loaded from private resource\")\n",
    "        display(df_csv.head())\n",
    "    else:\n",
    "        print(f\"❌ Failed to download CSV: {response.status_code}\")\n",
    "else:\n",
    "    print(\"❌ CSV URL not found\")\n"
   ]
  },
  {
   "cell_type": "code",
   "execution_count": 11,
   "id": "03e71147",
   "metadata": {},
   "outputs": [
    {
     "name": "stdout",
     "output_type": "stream",
     "text": [
      "✅ Parquet loaded from private resource\n"
     ]
    },
    {
     "data": {
      "application/vnd.microsoft.datawrangler.viewer.v0+json": {
       "columns": [
        {
         "name": "index",
         "rawType": "int64",
         "type": "integer"
        },
        {
         "name": "Gis_ID",
         "rawType": "int64",
         "type": "integer"
        },
        {
         "name": "N_Gis",
         "rawType": "int64",
         "type": "integer"
        },
        {
         "name": "Gis_X",
         "rawType": "float64",
         "type": "float"
        },
        {
         "name": "Gis_Y",
         "rawType": "float64",
         "type": "float"
        },
        {
         "name": "Data d'Alta",
         "rawType": "object",
         "type": "string"
        },
        {
         "name": "Data de Baixa",
         "rawType": "object",
         "type": "unknown"
        },
        {
         "name": "Situació",
         "rawType": "object",
         "type": "string"
        },
        {
         "name": "Barri",
         "rawType": "object",
         "type": "string"
        },
        {
         "name": "Districte",
         "rawType": "object",
         "type": "string"
        },
        {
         "name": "Tipus",
         "rawType": "object",
         "type": "unknown"
        },
        {
         "name": "Quantitat",
         "rawType": "float64",
         "type": "float"
        },
        {
         "name": "Mesura",
         "rawType": "float64",
         "type": "float"
        }
       ],
       "ref": "0cc9d81d-bf34-4d2d-b1af-6d0c59d8bd00",
       "rows": [
        [
         "0",
         "53",
         "1",
         "428568.7713",
         "4578088.7707",
         "13/4/2018 0:00:00",
         null,
         "Tram",
         "12. la Marina del Prat Vermell",
         "03. Sants-Montjuic",
         "Graons/Resalts",
         null,
         null
        ],
        [
         "1",
         "54",
         "2",
         "428561.4783",
         "4578085.1242",
         "13/4/2018 0:00:00",
         null,
         "Cruïlla",
         "12. la Marina del Prat Vermell",
         "03. Sants-Montjuic",
         null,
         null,
         null
        ],
        [
         "2",
         "55",
         "3",
         "428547.7503",
         "4578094.5622",
         "13/4/2018 0:00:00",
         null,
         "Cruïlla",
         "12. la Marina del Prat Vermell",
         "03. Sants-Montjuic",
         null,
         null,
         "400.0"
        ],
        [
         "3",
         "75",
         "4",
         "431202.6671",
         "4582812.0177",
         "16/4/2018 0:00:00",
         null,
         "Cruïlla",
         "05. el Fort Pienc",
         "02. Eixample",
         "Accessible",
         null,
         null
        ],
        [
         "4",
         "76",
         "5",
         "431179.358",
         "4582835.1838",
         "16/4/2018 0:00:00",
         null,
         "Cruïlla",
         "05. el Fort Pienc",
         "02. Eixample",
         "Accessible",
         null,
         null
        ]
       ],
       "shape": {
        "columns": 12,
        "rows": 5
       }
      },
      "text/html": [
       "<div>\n",
       "<style scoped>\n",
       "    .dataframe tbody tr th:only-of-type {\n",
       "        vertical-align: middle;\n",
       "    }\n",
       "\n",
       "    .dataframe tbody tr th {\n",
       "        vertical-align: top;\n",
       "    }\n",
       "\n",
       "    .dataframe thead th {\n",
       "        text-align: right;\n",
       "    }\n",
       "</style>\n",
       "<table border=\"1\" class=\"dataframe\">\n",
       "  <thead>\n",
       "    <tr style=\"text-align: right;\">\n",
       "      <th></th>\n",
       "      <th>Gis_ID</th>\n",
       "      <th>N_Gis</th>\n",
       "      <th>Gis_X</th>\n",
       "      <th>Gis_Y</th>\n",
       "      <th>Data d'Alta</th>\n",
       "      <th>Data de Baixa</th>\n",
       "      <th>Situació</th>\n",
       "      <th>Barri</th>\n",
       "      <th>Districte</th>\n",
       "      <th>Tipus</th>\n",
       "      <th>Quantitat</th>\n",
       "      <th>Mesura</th>\n",
       "    </tr>\n",
       "  </thead>\n",
       "  <tbody>\n",
       "    <tr>\n",
       "      <th>0</th>\n",
       "      <td>53</td>\n",
       "      <td>1</td>\n",
       "      <td>428568.7713</td>\n",
       "      <td>4.578089e+06</td>\n",
       "      <td>13/4/2018 0:00:00</td>\n",
       "      <td>None</td>\n",
       "      <td>Tram</td>\n",
       "      <td>12. la Marina del Prat Vermell</td>\n",
       "      <td>03. Sants-Montjuic</td>\n",
       "      <td>Graons/Resalts</td>\n",
       "      <td>NaN</td>\n",
       "      <td>NaN</td>\n",
       "    </tr>\n",
       "    <tr>\n",
       "      <th>1</th>\n",
       "      <td>54</td>\n",
       "      <td>2</td>\n",
       "      <td>428561.4783</td>\n",
       "      <td>4.578085e+06</td>\n",
       "      <td>13/4/2018 0:00:00</td>\n",
       "      <td>None</td>\n",
       "      <td>Cruïlla</td>\n",
       "      <td>12. la Marina del Prat Vermell</td>\n",
       "      <td>03. Sants-Montjuic</td>\n",
       "      <td>None</td>\n",
       "      <td>NaN</td>\n",
       "      <td>NaN</td>\n",
       "    </tr>\n",
       "    <tr>\n",
       "      <th>2</th>\n",
       "      <td>55</td>\n",
       "      <td>3</td>\n",
       "      <td>428547.7503</td>\n",
       "      <td>4.578095e+06</td>\n",
       "      <td>13/4/2018 0:00:00</td>\n",
       "      <td>None</td>\n",
       "      <td>Cruïlla</td>\n",
       "      <td>12. la Marina del Prat Vermell</td>\n",
       "      <td>03. Sants-Montjuic</td>\n",
       "      <td>None</td>\n",
       "      <td>NaN</td>\n",
       "      <td>400.0</td>\n",
       "    </tr>\n",
       "    <tr>\n",
       "      <th>3</th>\n",
       "      <td>75</td>\n",
       "      <td>4</td>\n",
       "      <td>431202.6671</td>\n",
       "      <td>4.582812e+06</td>\n",
       "      <td>16/4/2018 0:00:00</td>\n",
       "      <td>None</td>\n",
       "      <td>Cruïlla</td>\n",
       "      <td>05. el Fort Pienc</td>\n",
       "      <td>02. Eixample</td>\n",
       "      <td>Accessible</td>\n",
       "      <td>NaN</td>\n",
       "      <td>NaN</td>\n",
       "    </tr>\n",
       "    <tr>\n",
       "      <th>4</th>\n",
       "      <td>76</td>\n",
       "      <td>5</td>\n",
       "      <td>431179.3580</td>\n",
       "      <td>4.582835e+06</td>\n",
       "      <td>16/4/2018 0:00:00</td>\n",
       "      <td>None</td>\n",
       "      <td>Cruïlla</td>\n",
       "      <td>05. el Fort Pienc</td>\n",
       "      <td>02. Eixample</td>\n",
       "      <td>Accessible</td>\n",
       "      <td>NaN</td>\n",
       "      <td>NaN</td>\n",
       "    </tr>\n",
       "  </tbody>\n",
       "</table>\n",
       "</div>"
      ],
      "text/plain": [
       "   Gis_ID  N_Gis        Gis_X         Gis_Y        Data d'Alta Data de Baixa  \\\n",
       "0      53      1  428568.7713  4.578089e+06  13/4/2018 0:00:00          None   \n",
       "1      54      2  428561.4783  4.578085e+06  13/4/2018 0:00:00          None   \n",
       "2      55      3  428547.7503  4.578095e+06  13/4/2018 0:00:00          None   \n",
       "3      75      4  431202.6671  4.582812e+06  16/4/2018 0:00:00          None   \n",
       "4      76      5  431179.3580  4.582835e+06  16/4/2018 0:00:00          None   \n",
       "\n",
       "  Situació                           Barri           Districte  \\\n",
       "0     Tram  12. la Marina del Prat Vermell  03. Sants-Montjuic   \n",
       "1  Cruïlla  12. la Marina del Prat Vermell  03. Sants-Montjuic   \n",
       "2  Cruïlla  12. la Marina del Prat Vermell  03. Sants-Montjuic   \n",
       "3  Cruïlla               05. el Fort Pienc        02. Eixample   \n",
       "4  Cruïlla               05. el Fort Pienc        02. Eixample   \n",
       "\n",
       "            Tipus  Quantitat  Mesura  \n",
       "0  Graons/Resalts        NaN     NaN  \n",
       "1            None        NaN     NaN  \n",
       "2            None        NaN   400.0  \n",
       "3      Accessible        NaN     NaN  \n",
       "4      Accessible        NaN     NaN  "
      ]
     },
     "metadata": {},
     "output_type": "display_data"
    }
   ],
   "source": [
    "if parquet_url:\n",
    "    response = requests.get(parquet_url, headers={\"Authorization\": API_KEY})\n",
    "    if response.status_code == 200:\n",
    "        df_parquet = pd.read_parquet(io.BytesIO(response.content))\n",
    "        print(\"✅ Parquet loaded from private resource\")\n",
    "        display(df_parquet.head())\n",
    "    else:\n",
    "        print(f\"❌ Failed to download Parquet: {response.status_code}\")\n",
    "else:\n",
    "    print(\"❌ Parquet URL not found\")\n"
   ]
  },
  {
   "cell_type": "code",
   "execution_count": 12,
   "id": "dbdf0b76",
   "metadata": {},
   "outputs": [
    {
     "data": {
      "text/plain": [
       "'https://reallocate-ckan.iti.gr:443/dataset/0894c34d-1a60-46c5-b5fb-7d404fcb6595/resource/988cf370-f9c3-4d75-8153-a5b09388f572/download/streets_accessibility.parquet'"
      ]
     },
     "execution_count": 12,
     "metadata": {},
     "output_type": "execute_result"
    }
   ],
   "source": [
    "parquet_url"
   ]
  }
 ],
 "metadata": {
  "kernelspec": {
   "display_name": ".venv",
   "language": "python",
   "name": "python3"
  },
  "language_info": {
   "codemirror_mode": {
    "name": "ipython",
    "version": 3
   },
   "file_extension": ".py",
   "mimetype": "text/x-python",
   "name": "python",
   "nbconvert_exporter": "python",
   "pygments_lexer": "ipython3",
   "version": "3.11.13"
  }
 },
 "nbformat": 4,
 "nbformat_minor": 5
}
