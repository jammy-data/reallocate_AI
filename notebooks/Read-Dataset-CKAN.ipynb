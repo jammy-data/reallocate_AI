{
 "cells": [
  {
   "cell_type": "markdown",
   "id": "98289df1",
   "metadata": {},
   "source": [
    "# Import a dataset to REALLOCATE CKAN"
   ]
  },
  {
   "cell_type": "code",
   "execution_count": 1,
   "id": "8decc089",
   "metadata": {},
   "outputs": [
    {
     "name": "stderr",
     "output_type": "stream",
     "text": [
      "/home/lliebsch/reallocate_AI/.venv/lib/python3.11/site-packages/ckanapi/version.py:1: UserWarning: pkg_resources is deprecated as an API. See https://setuptools.pypa.io/en/latest/pkg_resources.html. The pkg_resources package is slated for removal as early as 2025-11-30. Refrain from using this package or pin to Setuptools<81.\n",
      "  import pkg_resources\n"
     ]
    }
   ],
   "source": [
    "from ckanapi import RemoteCKAN\n",
    "from dotenv import load_dotenv\n",
    "import os\n",
    "import pandas as pd\n",
    "from pathlib import Path\n",
    "import requests\n",
    "import io"
   ]
  },
  {
   "cell_type": "code",
   "execution_count": 2,
   "id": "fc97a2bf",
   "metadata": {},
   "outputs": [],
   "source": [
    "# ⚙️ Step 2: Set up connection and metadata\n",
    "DATASET_NAME = \"streets_accessibility\"\n",
    "LOCATION_FILES = \"../data/\"\n",
    "CSV_FILE = f\"{LOCATION_FILES}{DATASET_NAME}.csv\"\n",
    "PARQUET_FILE = f\"{LOCATION_FILES}{DATASET_NAME}.parquet\"\n",
    "\n",
    "DATASET_TITLE = \"Walking trips\"\n",
    "DATASET_DESCRIPTION = \"Walking trips by year from the EMEF data\"\n",
    "\n",
    "CKAN_URL = \"https://reallocate-ckan.iti.gr\"\n",
    "API_KEY = os.getenv(\"REALLOCATE_KEY\")\n",
    "ckan = RemoteCKAN(CKAN_URL, apikey=API_KEY)\n",
    "ORG_INFO = ckan.action.organization_show(id=\"bsc\")\n",
    "\n",
    "# Get dataset metadata\n",
    "dataset = ckan.action.package_show(id=DATASET_NAME)"
   ]
  },
  {
   "cell_type": "markdown",
   "id": "3e46754c",
   "metadata": {},
   "source": [
    "## Load data"
   ]
  },
  {
   "cell_type": "code",
   "execution_count": 3,
   "id": "e0730da4",
   "metadata": {},
   "outputs": [
    {
     "name": "stdout",
     "output_type": "stream",
     "text": [
      "✅ Found CSV: True\n",
      "✅ Found Parquet: True\n"
     ]
    }
   ],
   "source": [
    "# 🔍 3. Locate CSV and Parquet file resource URLs\n",
    "\n",
    "csv_url = None\n",
    "parquet_url = None\n",
    "\n",
    "for res in dataset[\"resources\"]:\n",
    "    fmt = res[\"format\"].lower()\n",
    "    if fmt == \"csv\" and not csv_url:\n",
    "        csv_url = res[\"url\"]\n",
    "    elif fmt == \"parquet\" and not parquet_url:\n",
    "        parquet_url = res[\"url\"]\n",
    "\n",
    "print(\"✅ Found CSV:\", bool(csv_url))\n",
    "print(\"✅ Found Parquet:\", bool(parquet_url))\n"
   ]
  },
  {
   "cell_type": "code",
   "execution_count": 5,
   "id": "0932d83c",
   "metadata": {},
   "outputs": [
    {
     "name": "stdout",
     "output_type": "stream",
     "text": [
      "✅ CSV loaded from private resource\n"
     ]
    },
    {
     "data": {
      "text/html": [
       "<div>\n",
       "<style scoped>\n",
       "    .dataframe tbody tr th:only-of-type {\n",
       "        vertical-align: middle;\n",
       "    }\n",
       "\n",
       "    .dataframe tbody tr th {\n",
       "        vertical-align: top;\n",
       "    }\n",
       "\n",
       "    .dataframe thead th {\n",
       "        text-align: right;\n",
       "    }\n",
       "</style>\n",
       "<table border=\"1\" class=\"dataframe\">\n",
       "  <thead>\n",
       "    <tr style=\"text-align: right;\">\n",
       "      <th></th>\n",
       "      <th>Gis_ID</th>\n",
       "      <th>N_Gis</th>\n",
       "      <th>Gis_X</th>\n",
       "      <th>Gis_Y</th>\n",
       "      <th>Data d'Alta</th>\n",
       "      <th>Data de Baixa</th>\n",
       "      <th>Situació</th>\n",
       "      <th>Barri</th>\n",
       "      <th>Districte</th>\n",
       "      <th>Tipus</th>\n",
       "      <th>Quantitat</th>\n",
       "      <th>Mesura</th>\n",
       "    </tr>\n",
       "  </thead>\n",
       "  <tbody>\n",
       "    <tr>\n",
       "      <th>0</th>\n",
       "      <td>575</td>\n",
       "      <td>401</td>\n",
       "      <td>431791.4225</td>\n",
       "      <td>4.583412e+06</td>\n",
       "      <td>18/4/2018 0:00:00</td>\n",
       "      <td>NaN</td>\n",
       "      <td>Cruïlla</td>\n",
       "      <td>05. el Fort Pienc</td>\n",
       "      <td>02. Eixample</td>\n",
       "      <td>NaN</td>\n",
       "      <td>NaN</td>\n",
       "      <td>NaN</td>\n",
       "    </tr>\n",
       "    <tr>\n",
       "      <th>1</th>\n",
       "      <td>60281</td>\n",
       "      <td>56603</td>\n",
       "      <td>431328.9070</td>\n",
       "      <td>4.586397e+06</td>\n",
       "      <td>24/10/2018 0:00:00</td>\n",
       "      <td>NaN</td>\n",
       "      <td>Cruïlla</td>\n",
       "      <td>62. el Congres i els Indians</td>\n",
       "      <td>09. Sant Andreu</td>\n",
       "      <td>NaN</td>\n",
       "      <td>NaN</td>\n",
       "      <td>NaN</td>\n",
       "    </tr>\n",
       "    <tr>\n",
       "      <th>2</th>\n",
       "      <td>68500</td>\n",
       "      <td>64461</td>\n",
       "      <td>431300.6970</td>\n",
       "      <td>4.585026e+06</td>\n",
       "      <td>23/11/2018 0:00:00</td>\n",
       "      <td>NaN</td>\n",
       "      <td>Cruïlla</td>\n",
       "      <td>64. el Camp de l'Arpa del Clot</td>\n",
       "      <td>10. Sant Marti</td>\n",
       "      <td>NaN</td>\n",
       "      <td>NaN</td>\n",
       "      <td>NaN</td>\n",
       "    </tr>\n",
       "    <tr>\n",
       "      <th>3</th>\n",
       "      <td>6507</td>\n",
       "      <td>5687</td>\n",
       "      <td>431419.1947</td>\n",
       "      <td>4.583669e+06</td>\n",
       "      <td>05/04/2018 0:00</td>\n",
       "      <td>NaN</td>\n",
       "      <td>Cruïlla</td>\n",
       "      <td>06. la Sagrada Familia</td>\n",
       "      <td>02. Eixample</td>\n",
       "      <td>Falta element de protecció en gual</td>\n",
       "      <td>NaN</td>\n",
       "      <td>NaN</td>\n",
       "    </tr>\n",
       "    <tr>\n",
       "      <th>4</th>\n",
       "      <td>140993</td>\n",
       "      <td>131118</td>\n",
       "      <td>428651.1575</td>\n",
       "      <td>4.580252e+06</td>\n",
       "      <td>04/03/2021 0:00</td>\n",
       "      <td>NaN</td>\n",
       "      <td>Tram</td>\n",
       "      <td>14. la Font de la Guatlla</td>\n",
       "      <td>03. Sants-Montjuic</td>\n",
       "      <td>NaN</td>\n",
       "      <td>NaN</td>\n",
       "      <td>250.0</td>\n",
       "    </tr>\n",
       "  </tbody>\n",
       "</table>\n",
       "</div>"
      ],
      "text/plain": [
       "   Gis_ID   N_Gis        Gis_X         Gis_Y         Data d'Alta  \\\n",
       "0     575     401  431791.4225  4.583412e+06   18/4/2018 0:00:00   \n",
       "1   60281   56603  431328.9070  4.586397e+06  24/10/2018 0:00:00   \n",
       "2   68500   64461  431300.6970  4.585026e+06  23/11/2018 0:00:00   \n",
       "3    6507    5687  431419.1947  4.583669e+06     05/04/2018 0:00   \n",
       "4  140993  131118  428651.1575  4.580252e+06     04/03/2021 0:00   \n",
       "\n",
       "  Data de Baixa Situació                           Barri           Districte  \\\n",
       "0           NaN  Cruïlla               05. el Fort Pienc        02. Eixample   \n",
       "1           NaN  Cruïlla    62. el Congres i els Indians     09. Sant Andreu   \n",
       "2           NaN  Cruïlla  64. el Camp de l'Arpa del Clot      10. Sant Marti   \n",
       "3           NaN  Cruïlla          06. la Sagrada Familia        02. Eixample   \n",
       "4           NaN     Tram       14. la Font de la Guatlla  03. Sants-Montjuic   \n",
       "\n",
       "                                Tipus  Quantitat  Mesura  \n",
       "0                                 NaN        NaN     NaN  \n",
       "1                                 NaN        NaN     NaN  \n",
       "2                                 NaN        NaN     NaN  \n",
       "3  Falta element de protecció en gual        NaN     NaN  \n",
       "4                                 NaN        NaN   250.0  "
      ]
     },
     "metadata": {},
     "output_type": "display_data"
    }
   ],
   "source": [
    "if csv_url:\n",
    "    response = requests.get(csv_url, headers={\"Authorization\": API_KEY})\n",
    "    if response.status_code == 200:\n",
    "        df_csv = pd.read_csv(io.BytesIO(response.content))\n",
    "        print(\"✅ CSV loaded from private resource\")\n",
    "        display(df_csv.head())\n",
    "    else:\n",
    "        print(f\"❌ Failed to download CSV: {response.status_code}\")\n",
    "else:\n",
    "    print(\"❌ CSV URL not found\")\n"
   ]
  },
  {
   "cell_type": "code",
   "execution_count": 4,
   "id": "03e71147",
   "metadata": {},
   "outputs": [
    {
     "name": "stdout",
     "output_type": "stream",
     "text": [
      "✅ Parquet loaded from private resource\n"
     ]
    },
    {
     "data": {
      "text/html": [
       "<div>\n",
       "<style scoped>\n",
       "    .dataframe tbody tr th:only-of-type {\n",
       "        vertical-align: middle;\n",
       "    }\n",
       "\n",
       "    .dataframe tbody tr th {\n",
       "        vertical-align: top;\n",
       "    }\n",
       "\n",
       "    .dataframe thead th {\n",
       "        text-align: right;\n",
       "    }\n",
       "</style>\n",
       "<table border=\"1\" class=\"dataframe\">\n",
       "  <thead>\n",
       "    <tr style=\"text-align: right;\">\n",
       "      <th></th>\n",
       "      <th>Gis_ID</th>\n",
       "      <th>N_Gis</th>\n",
       "      <th>Gis_X</th>\n",
       "      <th>Gis_Y</th>\n",
       "      <th>Data d'Alta</th>\n",
       "      <th>Data de Baixa</th>\n",
       "      <th>Situació</th>\n",
       "      <th>Barri</th>\n",
       "      <th>Districte</th>\n",
       "      <th>Tipus</th>\n",
       "      <th>Quantitat</th>\n",
       "      <th>Mesura</th>\n",
       "    </tr>\n",
       "  </thead>\n",
       "  <tbody>\n",
       "    <tr>\n",
       "      <th>0</th>\n",
       "      <td>575</td>\n",
       "      <td>401</td>\n",
       "      <td>431791.4225</td>\n",
       "      <td>4.583412e+06</td>\n",
       "      <td>18/4/2018 0:00:00</td>\n",
       "      <td>None</td>\n",
       "      <td>Cruïlla</td>\n",
       "      <td>05. el Fort Pienc</td>\n",
       "      <td>02. Eixample</td>\n",
       "      <td>None</td>\n",
       "      <td>NaN</td>\n",
       "      <td>NaN</td>\n",
       "    </tr>\n",
       "    <tr>\n",
       "      <th>1</th>\n",
       "      <td>60281</td>\n",
       "      <td>56603</td>\n",
       "      <td>431328.9070</td>\n",
       "      <td>4.586397e+06</td>\n",
       "      <td>24/10/2018 0:00:00</td>\n",
       "      <td>None</td>\n",
       "      <td>Cruïlla</td>\n",
       "      <td>62. el Congres i els Indians</td>\n",
       "      <td>09. Sant Andreu</td>\n",
       "      <td>None</td>\n",
       "      <td>NaN</td>\n",
       "      <td>NaN</td>\n",
       "    </tr>\n",
       "    <tr>\n",
       "      <th>2</th>\n",
       "      <td>68500</td>\n",
       "      <td>64461</td>\n",
       "      <td>431300.6970</td>\n",
       "      <td>4.585026e+06</td>\n",
       "      <td>23/11/2018 0:00:00</td>\n",
       "      <td>None</td>\n",
       "      <td>Cruïlla</td>\n",
       "      <td>64. el Camp de l'Arpa del Clot</td>\n",
       "      <td>10. Sant Marti</td>\n",
       "      <td>None</td>\n",
       "      <td>NaN</td>\n",
       "      <td>NaN</td>\n",
       "    </tr>\n",
       "    <tr>\n",
       "      <th>3</th>\n",
       "      <td>6507</td>\n",
       "      <td>5687</td>\n",
       "      <td>431419.1947</td>\n",
       "      <td>4.583669e+06</td>\n",
       "      <td>05/04/2018 0:00</td>\n",
       "      <td>None</td>\n",
       "      <td>Cruïlla</td>\n",
       "      <td>06. la Sagrada Familia</td>\n",
       "      <td>02. Eixample</td>\n",
       "      <td>Falta element de protecció en gual</td>\n",
       "      <td>NaN</td>\n",
       "      <td>NaN</td>\n",
       "    </tr>\n",
       "    <tr>\n",
       "      <th>4</th>\n",
       "      <td>140993</td>\n",
       "      <td>131118</td>\n",
       "      <td>428651.1575</td>\n",
       "      <td>4.580252e+06</td>\n",
       "      <td>04/03/2021 0:00</td>\n",
       "      <td>None</td>\n",
       "      <td>Tram</td>\n",
       "      <td>14. la Font de la Guatlla</td>\n",
       "      <td>03. Sants-Montjuic</td>\n",
       "      <td>None</td>\n",
       "      <td>NaN</td>\n",
       "      <td>250.0</td>\n",
       "    </tr>\n",
       "  </tbody>\n",
       "</table>\n",
       "</div>"
      ],
      "text/plain": [
       "   Gis_ID   N_Gis        Gis_X         Gis_Y         Data d'Alta  \\\n",
       "0     575     401  431791.4225  4.583412e+06   18/4/2018 0:00:00   \n",
       "1   60281   56603  431328.9070  4.586397e+06  24/10/2018 0:00:00   \n",
       "2   68500   64461  431300.6970  4.585026e+06  23/11/2018 0:00:00   \n",
       "3    6507    5687  431419.1947  4.583669e+06     05/04/2018 0:00   \n",
       "4  140993  131118  428651.1575  4.580252e+06     04/03/2021 0:00   \n",
       "\n",
       "  Data de Baixa Situació                           Barri           Districte  \\\n",
       "0          None  Cruïlla               05. el Fort Pienc        02. Eixample   \n",
       "1          None  Cruïlla    62. el Congres i els Indians     09. Sant Andreu   \n",
       "2          None  Cruïlla  64. el Camp de l'Arpa del Clot      10. Sant Marti   \n",
       "3          None  Cruïlla          06. la Sagrada Familia        02. Eixample   \n",
       "4          None     Tram       14. la Font de la Guatlla  03. Sants-Montjuic   \n",
       "\n",
       "                                Tipus  Quantitat  Mesura  \n",
       "0                                None        NaN     NaN  \n",
       "1                                None        NaN     NaN  \n",
       "2                                None        NaN     NaN  \n",
       "3  Falta element de protecció en gual        NaN     NaN  \n",
       "4                                None        NaN   250.0  "
      ]
     },
     "metadata": {},
     "output_type": "display_data"
    }
   ],
   "source": [
    "if parquet_url:\n",
    "    response = requests.get(parquet_url, headers={\"Authorization\": API_KEY})\n",
    "    if response.status_code == 200:\n",
    "        df_parquet = pd.read_parquet(io.BytesIO(response.content))\n",
    "        print(\"✅ Parquet loaded from private resource\")\n",
    "        display(df_parquet.head())\n",
    "    else:\n",
    "        print(f\"❌ Failed to download Parquet: {response.status_code}\")\n",
    "else:\n",
    "    print(\"❌ Parquet URL not found\")\n"
   ]
  },
  {
   "cell_type": "markdown",
   "id": "a7bb3a75",
   "metadata": {},
   "source": [
    "## Clean dataset"
   ]
  },
  {
   "cell_type": "code",
   "execution_count": 6,
   "id": "332cae16",
   "metadata": {},
   "outputs": [],
   "source": [
    "# 🧹 Step 4 (Optional): Clean your dataset\n",
    "\n",
    "# Example: clean datetime\n",
    "if 'Dim-00:TEMPS' in df.columns:\n",
    "    df['Dim-00:TEMPS'] = pd.to_datetime(df['Dim-00:TEMPS'], errors='coerce') \\\n",
    "                            .dt.strftime('%Y-%m-%dT%H:%M:%S')\n",
    "\n",
    "# Ensure numeric columns are properly parsed\n",
    "for col in df.columns:\n",
    "    if col.upper() == \"VALUE\":\n",
    "        df[col] = pd.to_numeric(df[col], errors='coerce')\n"
   ]
  },
  {
   "cell_type": "markdown",
   "id": "40c9691c",
   "metadata": {},
   "source": [
    "## Create/update dataset"
   ]
  },
  {
   "cell_type": "code",
   "execution_count": 49,
   "id": "c1dacc65",
   "metadata": {},
   "outputs": [
    {
     "name": "stdout",
     "output_type": "stream",
     "text": [
      "✅ Dataset 'walking_trips' already exists.\n"
     ]
    }
   ],
   "source": [
    "dataset = get_or_create_dataset(\n",
    "    ckan,\n",
    "    dataset_name=DATASET_NAME,\n",
    "    title=DATASET_TITLE,\n",
    "    notes=DATASET_DESCRIPTION,\n",
    "    org_id=ORG_INFO[\"id\"]  # optional\n",
    ")\n"
   ]
  },
  {
   "cell_type": "markdown",
   "id": "d1ce6d3d",
   "metadata": {},
   "source": [
    "## Upload dataset"
   ]
  },
  {
   "cell_type": "code",
   "execution_count": 50,
   "id": "6e7199d6",
   "metadata": {},
   "outputs": [
    {
     "name": "stdout",
     "output_type": "stream",
     "text": [
      "✅ File uploaded as resource: b47929c3-a21a-4153-811a-2f572649e9a4\n",
      "✅ Data uploaded to DataStore: 18 records\n"
     ]
    }
   ],
   "source": [
    "# ✅ Add data to CKAN: upload file and push to DataStore\n",
    "\n",
    "# 📁 1. Upload file as resource (preserves original format)\n",
    "resource = ckan.action.resource_create(\n",
    "    package_id=dataset[\"id\"],\n",
    "    name=DATASET_TITLE,\n",
    "    format=Path(CSV_FILE).suffix[1:].upper(),  # auto-detect format\n",
    "    upload=open(CSV_FILE, \"rb\")\n",
    ")\n",
    "print(f\"✅ File uploaded as resource: {resource['id']}\")\n",
    "\n",
    "# 🧠 2. Upload structured data to DataStore\n",
    "# Load into DataFrame (already done in your notebook as `df`)\n",
    "\n",
    "# Create CKAN field definitions from df types\n",
    "fields = []\n",
    "for col in df.columns:\n",
    "    dtype = df[col].dtype\n",
    "    if pd.api.types.is_numeric_dtype(dtype):\n",
    "        ftype = \"numeric\"\n",
    "    elif pd.api.types.is_datetime64_any_dtype(dtype):\n",
    "        ftype = \"timestamp\"\n",
    "    else:\n",
    "        ftype = \"text\"\n",
    "    fields.append({\"id\": col, \"type\": ftype})\n",
    "\n",
    "# Convert to CKAN records format\n",
    "records = df.to_dict(orient='records')\n",
    "\n",
    "# Upload to DataStore (overwrites if already exists)\n",
    "ckan.action.datastore_create(\n",
    "    resource_id=resource[\"id\"],\n",
    "    fields=fields,\n",
    "    records=records,\n",
    "    force=True\n",
    ")\n",
    "print(f\"✅ Data uploaded to DataStore: {len(records)} records\")"
   ]
  },
  {
   "cell_type": "code",
   "execution_count": 51,
   "id": "412f27a5",
   "metadata": {},
   "outputs": [
    {
     "name": "stdout",
     "output_type": "stream",
     "text": [
      "✅ Parquet file uploaded as resource: 6ced2de3-899b-4787-b739-b60f7f552c2d\n"
     ]
    }
   ],
   "source": [
    "# ✅ Upload Parquet version of the data to CKAN (as file, not parsed)\n",
    "\n",
    "parquet_resource = ckan.action.resource_create(\n",
    "    package_id=dataset[\"id\"],\n",
    "    name=f\"{DATASET_TITLE} (parquet)\",\n",
    "    format=\"Parquet\",\n",
    "    upload=open(PARQUET_FILE, \"rb\")\n",
    ")\n",
    "\n",
    "print(f\"✅ Parquet file uploaded as resource: {parquet_resource['id']}\")\n"
   ]
  }
 ],
 "metadata": {
  "kernelspec": {
   "display_name": ".venv",
   "language": "python",
   "name": "python3"
  },
  "language_info": {
   "codemirror_mode": {
    "name": "ipython",
    "version": 3
   },
   "file_extension": ".py",
   "mimetype": "text/x-python",
   "name": "python",
   "nbconvert_exporter": "python",
   "pygments_lexer": "ipython3",
   "version": "3.11.11"
  }
 },
 "nbformat": 4,
 "nbformat_minor": 5
}
